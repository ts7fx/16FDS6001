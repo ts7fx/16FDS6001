{
 "cells": [
  {
   "cell_type": "markdown",
   "metadata": {},
   "source": [
    "# Wrangling Train Accident Data\n",
    "\n",
    "### Overview\n",
    "\n",
    "We will clean and format train accident data for \n",
    "analysis. Our goal is to understand contributors \n",
    "to rail accidents in the U.S.\n",
    "\n",
    "### Instructions\n",
    "\n",
    "This notebook contains a small series of in-class \n",
    "exercises. Do these by yourself but you can consult\n",
    "with others in the class, use the text, and search for\n",
    "relevant materials on the web. \n",
    "\n",
    "At the end of class submit your completed notebook.\n",
    "Use of a combination of mardown and code cells to \n",
    "present your answers the questions."
   ]
  },
  {
   "cell_type": "code",
   "execution_count": 38,
   "metadata": {
    "collapsed": false
   },
   "outputs": [],
   "source": [
    "# Start here\n",
    "\n",
    "# Data and analysis\n",
    "\n",
    "import requests\n",
    "import numpy as np\n",
    "import pandas as pd\n",
    "from collections import Counter\n",
    "\n",
    "\n",
    "# Plotting\n",
    "#import seaborn as sns\n",
    "import matplotlib as mpl\n",
    "import matplotlib.pyplot as plt\n",
    "\n",
    "%matplotlib inline\n",
    "\n",
    "\n"
   ]
  },
  {
   "cell_type": "markdown",
   "metadata": {},
   "source": [
    "# Exercise 1\n",
    "\n",
    "Put the rail accident data reported by railroads for \n",
    "2015 in a pandas data frame. See the notes in \n",
    "the next cell. Then answer the following questions:\n",
    "1. What are the rows?\n",
    "2. What are the columns?\n",
    "3. What are sizes of the dimensions?\n",
    "4. What are the variables?\n",
    "5. What variables predictors and what variables are responses?\n",
    "6. What are interesting variables for the stated goal?\n",
    "7. What are descriptive statistics on these interesting variables?\n",
    "8. What are the important qualitative variables?\n"
   ]
  },
  {
   "cell_type": "code",
   "execution_count": 54,
   "metadata": {
    "collapsed": false
   },
   "outputs": [
    {
     "data": {
      "text/plain": [
       "Counter({nan: 146,\n",
       "         '3': 19,\n",
       "         'B': 16,\n",
       "         'A': 73,\n",
       "         'E': 5,\n",
       "         '1': 970,\n",
       "         '2': 70,\n",
       "         '5': 117,\n",
       "         '8': 164,\n",
       "         '7': 731,\n",
       "         'C': 11,\n",
       "         '6': 163,\n",
       "         'D': 37,\n",
       "         '4': 18,\n",
       "         '9': 19})"
      ]
     },
     "execution_count": 54,
     "metadata": {},
     "output_type": "execute_result"
    }
   ],
   "source": [
    "# Get rail accident data reported by railroads\n",
    "# at the url http://safetydata.fra.dot.gov/\n",
    "# Look under the drop-down: \n",
    "# Downloads -> Accident Data Reported by Railroads\n",
    "# Get the data for 2015\n",
    "import pandas as pd\n",
    "\n",
    "url = 'http://safetydata.fra.dot.gov/Output/1546417.txt'\n",
    "data_2015 = pd.read_csv(url)\n",
    "Counter(data_2015['TYPEQ'])"
   ]
  },
  {
   "cell_type": "code",
   "execution_count": 24,
   "metadata": {
    "collapsed": false,
    "scrolled": true
   },
   "outputs": [
    {
     "name": "stdout",
     "output_type": "stream",
     "text": [
      "  AMTRAK  IYR  IMO RAILROAD    INCDTNO  IYR2  IMO2   RR2  INCDTNO2  IYR3  \\\n",
      "1    NaN   15    4      CSX  000144316   NaN   NaN   NaN       NaN    15   \n",
      "2    NaN   15    3      CSX  000142845   NaN   NaN   NaN       NaN    15   \n",
      "3      K   15   12      ATK     140597   NaN   NaN   NaN       NaN    15   \n",
      "4    NaN   15   12       NS     118543  15.0  12.0  FGLK  12112015    15   \n",
      "\n",
      "      ...      NARR15  RCL Latitude  Longitud SIGNAL  MOPERA  ADJUNCT1  \\\n",
      "1     ...         NaN  0.0    42.56    -73.85      2     5.0       NaN   \n",
      "2     ...         NaN  0.0    42.56    -73.85      2     5.0       NaN   \n",
      "3     ...         NaN  0.0    42.63    -73.74      2     5.0       NaN   \n",
      "4     ...         NaN  NaN    42.87    -76.96      2     5.0         K   \n",
      "\n",
      "   ADJUNCT2  ADJUNCT3      SUBDIV  \n",
      "1       NaN       NaN     SELKIRK  \n",
      "2       NaN       NaN     SELKIRK  \n",
      "3       NaN       NaN         NaN  \n",
      "4       NaN       NaN  HARRISBURG  \n",
      "\n",
      "[4 rows x 146 columns]\n",
      "['AMTRAK' 'IYR' 'IMO' 'RAILROAD' 'INCDTNO' 'IYR2' 'IMO2' 'RR2' 'INCDTNO2'\n",
      " 'IYR3' 'IMO3' 'RR3' 'INCDTNO3' 'DUMMY1' 'GXID' 'YEAR' 'MONTH' 'DAY'\n",
      " 'TIMEHR' 'TIMEMIN' 'AMPM' 'TYPE' 'CARS' 'CARSDMG' 'CARSHZD' 'EVACUATE'\n",
      " 'DIVISION' 'STATION' 'MILEPOST' 'STATE' 'TEMP' 'VISIBLTY' 'WEATHER'\n",
      " 'TRNSPD' 'TYPSPD' 'TRNNBR' 'TRNDIR' 'TONS' 'TYPEQ' 'EQATT' 'TRKNAME'\n",
      " 'TRKCLAS' 'TRKDNSTY' 'TYPTRK' 'RRCAR1' 'CARNBR1' 'POSITON1' 'LOADED1'\n",
      " 'RRCAR2' 'CARNBR2' 'POSITON2' 'LOADED2' 'HEADEND1' 'MIDMAN1' 'MIDREM1'\n",
      " 'RMAN1' 'RREM1' 'HEADEND2' 'MIDMAN2' 'MIDREM2' 'RMAN2' 'RREM2' 'LOADF1'\n",
      " 'LOADP1' 'EMPTYF1' 'EMPTYP1' 'CABOOSE1' 'LOADF2' 'LOADP2' 'EMPTYF2'\n",
      " 'EMPTYP2' 'CABOOSE2' 'EQPDMG' 'TRKDMG' 'CAUSE' 'CAUSE2' 'CASKLDRR'\n",
      " 'CASINJRR' 'CASKLD' 'CASINJ' 'ACCAUSE' 'ACCTRK' 'ACCTRKCL' 'HIGHSPD'\n",
      " 'ACCDMG' 'DUMMY2' 'STCNTY' 'TOTINJ' 'DUMMY3' 'TOTKLD' 'ENGRS' 'FIREMEN'\n",
      " 'CONDUCTR' 'BRAKEMEN' 'ENGHR' 'ENGMIN' 'CDTRHR' 'CDTRMIN' 'JOINTCD'\n",
      " 'REGION' 'DUMMY4' 'TYPRR' 'DUMMY5' 'RRDIV' 'METHOD' 'NARRLEN' 'DUMMY6'\n",
      " 'YEAR4' 'RREMPKLD' 'RREMPINJ' 'PASSKLD' 'PASSINJ' 'OTHERKLD' 'OTHERINJ'\n",
      " 'COUNTY' 'CNTYCD' 'ALCOHOL' 'DRUG' 'DUMMY7' 'PASSTRN' 'SSB1' 'SSB2'\n",
      " 'NARR1' 'NARR2' 'NARR3' 'NARR4' 'NARR5' 'NARR6' 'NARR7' 'NARR8' 'NARR9'\n",
      " 'NARR10' 'NARR11' 'NARR12' 'NARR13' 'NARR14' 'NARR15' 'RCL' 'Latitude'\n",
      " 'Longitud' 'SIGNAL' 'MOPERA' 'ADJUNCT1' 'ADJUNCT2' 'ADJUNCT3' 'SUBDIV']\n",
      "2\n"
     ]
    },
    {
     "data": {
      "text/plain": [
       "AMTRAK       True\n",
       "IYR         False\n",
       "IMO         False\n",
       "RAILROAD    False\n",
       "INCDTNO     False\n",
       "IYR2         True\n",
       "IMO2         True\n",
       "RR2          True\n",
       "INCDTNO2     True\n",
       "IYR3        False\n",
       "IMO3        False\n",
       "RR3         False\n",
       "INCDTNO3    False\n",
       "DUMMY1       True\n",
       "GXID         True\n",
       "YEAR        False\n",
       "MONTH       False\n",
       "DAY         False\n",
       "TIMEHR      False\n",
       "TIMEMIN     False\n",
       "AMPM        False\n",
       "TYPE        False\n",
       "CARS        False\n",
       "CARSDMG     False\n",
       "CARSHZD     False\n",
       "EVACUATE    False\n",
       "DIVISION     True\n",
       "STATION      True\n",
       "MILEPOST     True\n",
       "STATE       False\n",
       "            ...  \n",
       "ALCOHOL      True\n",
       "DRUG         True\n",
       "DUMMY7       True\n",
       "PASSTRN      True\n",
       "SSB1        False\n",
       "SSB2         True\n",
       "NARR1       False\n",
       "NARR2        True\n",
       "NARR3        True\n",
       "NARR4        True\n",
       "NARR5        True\n",
       "NARR6        True\n",
       "NARR7        True\n",
       "NARR8        True\n",
       "NARR9        True\n",
       "NARR10       True\n",
       "NARR11       True\n",
       "NARR12       True\n",
       "NARR13       True\n",
       "NARR14       True\n",
       "NARR15       True\n",
       "RCL          True\n",
       "Latitude    False\n",
       "Longitud    False\n",
       "SIGNAL      False\n",
       "MOPERA       True\n",
       "ADJUNCT1     True\n",
       "ADJUNCT2     True\n",
       "ADJUNCT3     True\n",
       "SUBDIV       True\n",
       "dtype: bool"
      ]
     },
     "execution_count": 24,
     "metadata": {},
     "output_type": "execute_result"
    }
   ],
   "source": [
    "# 1. what are the rows?\n",
    "print(data_2015[1:5])\n",
    "# each row is an record describing one attributes of one specific accident\n",
    "# look at column names to get a better idea:\n",
    "print(data_2015.columns.values)\n",
    "# read the reference file for colnames for this df, \n",
    "# each record describe attributes such as: month of incident, number of empty freight cars, etc.\n",
    "\n",
    "# 2. what are the columns?\n",
    "# columns are attributes that describe each incident\n",
    "\n",
    "# 3. What are sizes of the dimensions?\n",
    "print(data_2015.ndim) # ndim = 2\n",
    "\n",
    "# 4. what are the variables\n",
    "# columns are variables\n",
    "# 5. What variables predictors and what variables are responses?\n",
    "# responses: variables like: accdmg(total damage in $), casualties(total # of ppl killed + total # of ppl injured)\n",
    "# predictors: predictors like: weather, turnspeed, weight of train, etc.\n",
    "# 6. What are interesting variables for the stated goal?\n",
    "# if the goal is to investigate what factors are significant in train accidents,\n",
    "# then speed of train when the accident happened, or weather of the time when that accident happened, \n",
    "# could be interesting.\n",
    "\n",
    "# hypothese: speed has no association with casulties. <- because you want to be able to reject the hypotheses.\n",
    "\n",
    "# 7. What are descriptive statistics on these interesting variables?\n",
    "\n",
    "# 8. What are the important qualitative variables?\n",
    "\n",
    "data_2015[['ACCDMG','TOTKLD','TOTINJ','TRNSPD','TONS','TIMEHR']].describe()\n",
    "# total reports: 2559\n",
    "\n",
    "# check for missing data:\n",
    "pd.isnull(data_2015).any() # indicate lots of missing data."
   ]
  },
  {
   "cell_type": "markdown",
   "metadata": {},
   "source": [
    "# Exercise 2\n",
    "\n",
    "For at least two qualitative variables other than CAUSE, look at the levels and frequency of levels. For at least two qualitative variables that are coded as integers, recode them as categorical variables and define the levels using strings.  What type of variable is CAUSE? How is it coded?"
   ]
  },
  {
   "cell_type": "code",
   "execution_count": 42,
   "metadata": {
    "collapsed": false
   },
   "outputs": [
    {
     "data": {
      "text/html": [
       "<div>\n",
       "<table border=\"1\" class=\"dataframe\">\n",
       "  <thead>\n",
       "    <tr style=\"text-align: right;\">\n",
       "      <th></th>\n",
       "      <th>CAUSE</th>\n",
       "      <th>TYPEQ</th>\n",
       "      <th>EQATT</th>\n",
       "    </tr>\n",
       "  </thead>\n",
       "  <tbody>\n",
       "    <tr>\n",
       "      <th>count</th>\n",
       "      <td>2559</td>\n",
       "      <td>2413</td>\n",
       "      <td>2411</td>\n",
       "    </tr>\n",
       "    <tr>\n",
       "      <th>unique</th>\n",
       "      <td>246</td>\n",
       "      <td>14</td>\n",
       "      <td>2</td>\n",
       "    </tr>\n",
       "    <tr>\n",
       "      <th>top</th>\n",
       "      <td>H702</td>\n",
       "      <td>1</td>\n",
       "      <td>Y</td>\n",
       "    </tr>\n",
       "    <tr>\n",
       "      <th>freq</th>\n",
       "      <td>112</td>\n",
       "      <td>970</td>\n",
       "      <td>2105</td>\n",
       "    </tr>\n",
       "  </tbody>\n",
       "</table>\n",
       "</div>"
      ],
      "text/plain": [
       "       CAUSE TYPEQ EQATT\n",
       "count   2559  2413  2411\n",
       "unique   246    14     2\n",
       "top     H702     1     Y\n",
       "freq     112   970  2105"
      ]
     },
     "execution_count": 42,
     "metadata": {},
     "output_type": "execute_result"
    }
   ],
   "source": [
    "# Identify two cat variables other than Cause\n",
    "# pick: weather, method\n",
    "\n",
    "data_2015[['CAUSE','TYPEQ','EQATT']].describe()\n",
    "# look at their levels and frequency of levels\n",
    "# to check frequency of levels\n",
    "Counter(data_2015.TYPEQ)"
   ]
  },
  {
   "cell_type": "code",
   "execution_count": 44,
   "metadata": {
    "collapsed": false
   },
   "outputs": [
    {
     "data": {
      "text/plain": [
       "Counter({'E': 291, 'H': 1007, 'M': 597, 'S': 73, 'T': 591})"
      ]
     },
     "execution_count": 44,
     "metadata": {},
     "output_type": "execute_result"
    }
   ],
   "source": [
    "# looking at CAUSE, think about dummy encoding.\n",
    "# playing around with CAUSE to illustrate how to manipulate categorical variables:\n",
    "data_2015.CAUSE = data_2015.CAUSE.apply(lambda x: x[0])\n",
    "Counter(data_2015.CAUSE)"
   ]
  },
  {
   "cell_type": "code",
   "execution_count": 56,
   "metadata": {
    "collapsed": false
   },
   "outputs": [
    {
     "data": {
      "text/plain": [
       "pandas.core.series.Series"
      ]
     },
     "execution_count": 56,
     "metadata": {},
     "output_type": "execute_result"
    }
   ],
   "source": [
    "map_typeq = {'1':'Freight', '2':'Passenger', '3':'Commuter', '4':'Work', '5':'Single',\n",
    "             '6':'CutofCars', '7':'Yard', '8':'Light', '9':'Maint', 'A':'Maint of Way',\n",
    "             'B':'B','C':'C','D':'D','E':'E',\n",
    "}\n",
    "# to map a dictionary to a series object.\n",
    "# look for keys in series, then map values in the dict to corresponding keys.\n",
    "data_2015['TYPEQ'] = data_2015['TYPEQ'].map(map_typeq)\n",
    "Counter(data_2015['TYPEQ'])"
   ]
  },
  {
   "cell_type": "markdown",
   "metadata": {},
   "source": [
    "# Exercise 3\n",
    "\n",
    "What are the narratives? How are they organized? \n",
    "Write python to join narratives for each accident\n",
    "into one document. Then put all the documents\n",
    "into a list. Read some of these documents and comment\n",
    "on their content."
   ]
  },
  {
   "cell_type": "code",
   "execution_count": 85,
   "metadata": {
    "collapsed": false
   },
   "outputs": [
    {
     "data": {
      "text/plain": [
       "'DURING NORMAL HUMPING OPERATIONS GATX 26959 DERAILED IN THE GROUP RETARDERS . '"
      ]
     },
     "execution_count": 85,
     "metadata": {},
     "output_type": "execute_result"
    }
   ],
   "source": [
    "# use a for loop to concatenate all strings together for a column.\n",
    "result = []\n",
    "for i in range(len(data_2015['NARR1'])):\n",
    "    result.append(data_2015.ix[i,'NARR1'] + ' ')\n",
    "# () FOR TUPLE,\n",
    "# [] FOR LIST,\n",
    "# {} FOR DISCTIONARY!!!!!!!!!!!!!!!!!!!!!!!"
   ]
  },
  {
   "cell_type": "markdown",
   "metadata": {},
   "source": [
    "# Exercise 4\n",
    "\n",
    "For at least 2 of the quantitative response and at least two of the quantitative predictor variables produce histograms and box plots. Comment on what you observe."
   ]
  },
  {
   "cell_type": "code",
   "execution_count": 89,
   "metadata": {
    "collapsed": false
   },
   "outputs": [
    {
     "data": {
      "text/plain": [
       "<matplotlib.axes._subplots.AxesSubplot at 0x10672a2b0>"
      ]
     },
     "execution_count": 89,
     "metadata": {},
     "output_type": "execute_result"
    },
    {
     "data": {
      "image/png": "[encoded data removed]",
      "text/plain": [
       "<matplotlib.figure.Figure at 0x1143211d0>"
      ]
     },
     "metadata": {},
     "output_type": "display_data"
    }
   ],
   "source": [
    "# stergios \n",
    "\n",
    "data_2015.ACCDMG.plot(kind = 'hist')"
   ]
  },
  {
   "cell_type": "code",
   "execution_count": 94,
   "metadata": {
    "collapsed": false
   },
   "outputs": [
    {
     "data": {
      "text/plain": [
       "<matplotlib.text.Text at 0x116e0d940>"
      ]
     },
     "execution_count": 94,
     "metadata": {},
     "output_type": "execute_result"
    },
    {
     "data": {
      "image/png": "[encoded data removed]",
      "text/plain": [
       "<matplotlib.figure.Figure at 0x1142d4208>"
      ]
     },
     "metadata": {},
     "output_type": "display_data"
    }
   ],
   "source": [
    "plt.boxplot([np.log(data_2015.ACCDMG + 1),np.log(data_2015.TRKDMG+1)])\n",
    "plt.title(\"damage box plots, log scale\")"
   ]
  },
  {
   "cell_type": "markdown",
   "metadata": {},
   "source": [
    "# Exercise 5\n",
    "\n",
    "Get rail accident data reported by railroads\n",
    "for the years 2001 and 2008. Merge the data from these two years with the accident data for 2015.\n",
    "\n",
    "1. What are sizes of the dimensions?\n",
    "2. What are descriptive statistics on the important predictive and response variables?\n",
    "3. What are the level frequency counts on the important qualitative variables?\n"
   ]
  },
  {
   "cell_type": "code",
   "execution_count": 95,
   "metadata": {
    "collapsed": true
   },
   "outputs": [],
   "source": [
    "# get data\n",
    "url = 'http://safetydata.fra.dot.gov/Output/1657576.txt'\n",
    "data_2001 = pd.read_csv(url)\n",
    "\n",
    "url = 'http://safetydata.fra.dot.gov/Output/1658207.txt'\n",
    "data_2008 = pd.read_csv(url)"
   ]
  },
  {
   "cell_type": "code",
   "execution_count": 109,
   "metadata": {
    "collapsed": false
   },
   "outputs": [
    {
     "data": {
      "text/plain": [
       "True"
      ]
     },
     "execution_count": 109,
     "metadata": {},
     "output_type": "execute_result"
    }
   ],
   "source": [
    "# merge together.\n",
    "frames = [data_2015, data_2001, data_2008]\n",
    "result = pd.concat(frames)\n",
    "a  = data_2015[['ACCDMG','TOTKLD','TOTINJ','TRNSPD','TONS','TIMEHR']].describe().iloc[0][0]\n",
    "b = data_2001[['ACCDMG','TOTKLD','TOTINJ','TRNSPD','TONS','TIMEHR']].describe().iloc[0][0]\n",
    "c = data_2008[['ACCDMG','TOTKLD','TOTINJ','TRNSPD','TONS','TIMEHR']].describe().iloc[0][0]\n",
    "d= result[['ACCDMG','TOTKLD','TOTINJ','TRNSPD','TONS','TIMEHR']].describe().iloc[0][0]\n",
    "# prove result being correct.\n",
    "a+b+c == d\n"
   ]
  },
  {
   "cell_type": "code",
   "execution_count": null,
   "metadata": {
    "collapsed": true
   },
   "outputs": [],
   "source": []
  }
 ],
 "metadata": {
  "anaconda-cloud": {},
  "kernelspec": {
   "display_name": "Python [default]",
   "language": "python",
   "name": "python3"
  },
  "language_info": {
   "codemirror_mode": {
    "name": "ipython",
    "version": 3
   },
   "file_extension": ".py",
   "mimetype": "text/x-python",
   "name": "python",
   "nbconvert_exporter": "python",
   "pygments_lexer": "ipython3",
   "version": "3.5.2"
  }
 },
 "nbformat": 4,
 "nbformat_minor": 0
}
