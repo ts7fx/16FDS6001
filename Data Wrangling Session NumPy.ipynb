{
 "cells": [
  {
   "cell_type": "markdown",
   "metadata": {},
   "source": [
    "## Data Wrangling"
   ]
  },
  {
   "cell_type": "markdown",
   "metadata": {},
   "source": [
    " Data wrangling converts raw data into formats for analysis."
   ]
  },
  {
   "cell_type": "markdown",
   "metadata": {},
   "source": [
    "Data wrangling typically consumes 70-80% of a data scientist's project time.\n",
    "\n",
    "\n",
    "\n"
   ]
  },
  {
   "cell_type": "markdown",
   "metadata": {},
   "source": [
    "### Quick Python Review"
   ]
  },
  {
   "cell_type": "markdown",
   "metadata": {},
   "source": [
    "Python uses indentation and a : to show blocks of code"
   ]
  },
  {
   "cell_type": "code",
   "execution_count": 100,
   "metadata": {
    "collapsed": false
   },
   "outputs": [],
   "source": [
    "# Example\n",
    "\n",
    "#for i in range(1,10):\n",
    "#    print (i)"
   ]
  },
  {
   "cell_type": "code",
   "execution_count": 101,
   "metadata": {
    "collapsed": false
   },
   "outputs": [],
   "source": [
    "# Example function with 2 loops\n",
    "\n",
    "#for i in range(1,5):\n",
    "#    print ('begin', i)\n",
    "#    for j in range(11,15):\n",
    "#        print (j)\n",
    "#    print ('end', i)\n"
   ]
  },
  {
   "cell_type": "markdown",
   "metadata": {},
   "source": [
    "__Functions__ "
   ]
  },
  {
   "cell_type": "markdown",
   "metadata": {},
   "source": [
    "Write an interacctive function to implement Little's law in queuing, $L = \\lambda$ w, where $\\lambda = $ the average arrival time, L = average length of the queue and w = average wait time. Users should enter the length of queue, the average arrival time and get back their expected wait time."
   ]
  },
  {
   "cell_type": "code",
   "execution_count": 44,
   "metadata": {
    "collapsed": false
   },
   "outputs": [],
   "source": [
    "# Little's law in queuing: \n",
    "# Call it Little\n",
    "\n"
   ]
  },
  {
   "cell_type": "code",
   "execution_count": 45,
   "metadata": {
    "collapsed": false
   },
   "outputs": [
    {
     "name": "stdout",
     "output_type": "stream",
     "text": [
      "Enter the queue length 5\n",
      "Enter the arrival time for last person 2\n",
      "Your expected wait time is  2.5  minutes\n"
     ]
    }
   ],
   "source": [
    "Little()\n"
   ]
  },
  {
   "cell_type": "code",
   "execution_count": 34,
   "metadata": {
    "collapsed": false
   },
   "outputs": [
    {
     "name": "stdout",
     "output_type": "stream",
     "text": [
      "[1, 3, 2, 4]\n",
      "[1, 2, 3, 4]\n"
     ]
    }
   ],
   "source": [
    "# Changing values in a list\n",
    "\n",
    "# Compare\n",
    "\n",
    "l1 = [1,3,2,4]\n",
    "sorted(l1)\n",
    "print(l1)\n",
    "\n",
    "#  to\n",
    "\n",
    "l1 = [1,3,2,4]\n",
    "l1.sort()\n",
    "print(l1)\n"
   ]
  },
  {
   "cell_type": "markdown",
   "metadata": {},
   "source": [
    "# Numpy Review\n"
   ]
  },
  {
   "cell_type": "markdown",
   "metadata": {},
   "source": [
    "*Features:*\n",
    "* ndarray - Fast, efficient\n",
    "* Functions on arrays\n",
    "* Linear algebra\n",
    "* FFT and more\n"
   ]
  },
  {
   "cell_type": "code",
   "execution_count": 2,
   "metadata": {
    "collapsed": false
   },
   "outputs": [],
   "source": [
    "# Get numpy\n",
    "\n",
    "import numpy as np"
   ]
  },
  {
   "cell_type": "code",
   "execution_count": 2,
   "metadata": {
    "collapsed": false
   },
   "outputs": [],
   "source": [
    "# Lists to ndarrays\n",
    "\n",
    "# 1D and 2D lists\n",
    "\n",
    "\n",
    "\n",
    "# lists to arrays\n",
    "\n",
    "\n",
    "\n",
    "# np.zeros and np.ones\n",
    "\n",
    "\n",
    "# np.arange\n",
    "\n",
    "\n",
    "\n",
    "\n",
    "\n"
   ]
  },
  {
   "cell_type": "code",
   "execution_count": 3,
   "metadata": {
    "collapsed": false
   },
   "outputs": [
    {
     "data": {
      "text/plain": [
       "array([[ 0.56146109],\n",
       "       [ 2.07390972],\n",
       "       [ 0.05370014],\n",
       "       [-0.22063454]])"
      ]
     },
     "execution_count": 3,
     "metadata": {},
     "output_type": "execute_result"
    }
   ],
   "source": [
    "# np.where to find and replace\n",
    "import numpy as np\n",
    "array =np.random.randn(4,1)\n",
    "array1=np.random.randn(4,4)\n",
    "array\n",
    "\n"
   ]
  },
  {
   "cell_type": "code",
   "execution_count": 12,
   "metadata": {
    "collapsed": false
   },
   "outputs": [
    {
     "data": {
      "text/plain": [
       "array([[ 1.        ,  0.44069937,  1.27504568,  1.        ],\n",
       "       [ 0.87005424,  0.80750921,  1.43015442,  0.77167332],\n",
       "       [ 1.        ,  1.        ,  1.        ,  0.47070881],\n",
       "       [ 1.67293897,  1.        ,  1.99351134,  1.        ]])"
      ]
     },
     "execution_count": 12,
     "metadata": {},
     "output_type": "execute_result"
    }
   ],
   "source": [
    "#np.where example\n",
    "np.where(array1>0,array1,1)"
   ]
  },
  {
   "cell_type": "code",
   "execution_count": 14,
   "metadata": {
    "collapsed": false
   },
   "outputs": [
    {
     "data": {
      "text/plain": [
       "(4, 4)"
      ]
     },
     "execution_count": 14,
     "metadata": {},
     "output_type": "execute_result"
    }
   ],
   "source": [
    "# ndim, shape\n",
    "array.ndim\n",
    "array.shape"
   ]
  },
  {
   "cell_type": "code",
   "execution_count": 17,
   "metadata": {
    "collapsed": false
   },
   "outputs": [
    {
     "data": {
      "text/plain": [
       "array([[-1.96267018, -0.82297333, -0.6939485 ,  0.01012472],\n",
       "       [ 0.79705223,  0.22700853, -0.71972233, -0.33399303],\n",
       "       [-0.4791321 ,  0.43797222,  1.47985287,  0.42956337],\n",
       "       [-0.84645136, -1.15608366,  0.41955956,  0.17825347]])"
      ]
     },
     "execution_count": 17,
     "metadata": {},
     "output_type": "execute_result"
    }
   ],
   "source": [
    "# dtype\n",
    "array.dtype\n",
    "array"
   ]
  },
  {
   "cell_type": "code",
   "execution_count": 19,
   "metadata": {
    "collapsed": false
   },
   "outputs": [
    {
     "data": {
      "text/plain": [
       "array([[-1,  0,  0,  0],\n",
       "       [ 0,  0,  0,  0],\n",
       "       [ 0,  0,  1,  0],\n",
       "       [ 0, -1,  0,  0]])"
      ]
     },
     "execution_count": 19,
     "metadata": {},
     "output_type": "execute_result"
    }
   ],
   "source": [
    "# astype\n",
    "array.astype('int')\n"
   ]
  },
  {
   "cell_type": "markdown",
   "metadata": {},
   "source": [
    "**Matrix Operations with Scalar**"
   ]
  },
  {
   "cell_type": "code",
   "execution_count": 20,
   "metadata": {
    "collapsed": false
   },
   "outputs": [
    {
     "data": {
      "text/plain": [
       "array([[-3.92534037, -1.64594667, -1.387897  ,  0.02024943],\n",
       "       [ 1.59410445,  0.45401706, -1.43944466, -0.66798607],\n",
       "       [-0.9582642 ,  0.87594445,  2.95970573,  0.85912674],\n",
       "       [-1.69290272, -2.31216731,  0.83911912,  0.35650693]])"
      ]
     },
     "execution_count": 20,
     "metadata": {},
     "output_type": "execute_result"
    }
   ],
   "source": [
    "# Addition with array2D\n",
    "array+array\n"
   ]
  },
  {
   "cell_type": "code",
   "execution_count": 22,
   "metadata": {
    "collapsed": false
   },
   "outputs": [
    {
     "data": {
      "text/plain": [
       "array([[  3.85207425e+00,   6.77285106e-01,   4.81564522e-01,\n",
       "          1.02509862e-04],\n",
       "       [  6.35292252e-01,   5.15328718e-02,   5.18000231e-01,\n",
       "          1.11551346e-01],\n",
       "       [  2.29567568e-01,   1.91819668e-01,   2.18996451e+00,\n",
       "          1.84524687e-01],\n",
       "       [  7.16479902e-01,   1.33652942e+00,   1.76030224e-01,\n",
       "          3.17742982e-02]])"
      ]
     },
     "execution_count": 22,
     "metadata": {},
     "output_type": "execute_result"
    }
   ],
   "source": [
    "# multiplication with scalars and matrices\n",
    "array * 2\n",
    "array * array"
   ]
  },
  {
   "cell_type": "code",
   "execution_count": 23,
   "metadata": {
    "collapsed": false
   },
   "outputs": [
    {
     "data": {
      "text/plain": [
       "array([[ 0.,  0.,  0.,  0.],\n",
       "       [ 0.,  0.,  0.,  0.],\n",
       "       [ 0.,  0.,  0.,  0.],\n",
       "       [ 0.,  0.,  0.,  0.]])"
      ]
     },
     "execution_count": 23,
     "metadata": {},
     "output_type": "execute_result"
    }
   ],
   "source": [
    "# Subtraction\n",
    "array-array"
   ]
  },
  {
   "cell_type": "code",
   "execution_count": 24,
   "metadata": {
    "collapsed": false
   },
   "outputs": [
    {
     "data": {
      "text/plain": [
       "array([[ 1.,  1.,  1.,  1.],\n",
       "       [ 1.,  1.,  1.,  1.],\n",
       "       [ 1.,  1.,  1.,  1.],\n",
       "       [ 1.,  1.,  1.,  1.]])"
      ]
     },
     "execution_count": 24,
     "metadata": {},
     "output_type": "execute_result"
    }
   ],
   "source": [
    "# Division with scalars\n",
    "array/array"
   ]
  },
  {
   "cell_type": "code",
   "execution_count": 25,
   "metadata": {
    "collapsed": false
   },
   "outputs": [
    {
     "data": {
      "text/plain": [
       "array([[  3.85207425e+00,   6.77285106e-01,   4.81564522e-01,\n",
       "          1.02509862e-04],\n",
       "       [  6.35292252e-01,   5.15328718e-02,   5.18000231e-01,\n",
       "          1.11551346e-01],\n",
       "       [  2.29567568e-01,   1.91819668e-01,   2.18996451e+00,\n",
       "          1.84524687e-01],\n",
       "       [  7.16479902e-01,   1.33652942e+00,   1.76030224e-01,\n",
       "          3.17742982e-02]])"
      ]
     },
     "execution_count": 25,
     "metadata": {},
     "output_type": "execute_result"
    }
   ],
   "source": [
    "# Exponents\n",
    "array**2"
   ]
  },
  {
   "cell_type": "markdown",
   "metadata": {},
   "source": [
    "__Indexing and Slicing__"
   ]
  },
  {
   "cell_type": "code",
   "execution_count": 28,
   "metadata": {
    "collapsed": false
   },
   "outputs": [
    {
     "data": {
      "text/plain": [
       "array([0, 1, 2, 3, 4, 5])"
      ]
     },
     "execution_count": 28,
     "metadata": {},
     "output_type": "execute_result"
    }
   ],
   "source": [
    "# Use np.arange to get a 5 element array\n",
    "array = np.arange(6)\n",
    "array"
   ]
  },
  {
   "cell_type": "code",
   "execution_count": 30,
   "metadata": {
    "collapsed": false
   },
   "outputs": [
    {
     "data": {
      "text/plain": [
       "4"
      ]
     },
     "execution_count": 30,
     "metadata": {},
     "output_type": "execute_result"
    }
   ],
   "source": [
    "#Get 4th entry\n",
    "array[4]"
   ]
  },
  {
   "cell_type": "code",
   "execution_count": 31,
   "metadata": {
    "collapsed": false
   },
   "outputs": [
    {
     "data": {
      "text/plain": [
       "array([1, 2])"
      ]
     },
     "execution_count": 31,
     "metadata": {},
     "output_type": "execute_result"
    }
   ],
   "source": [
    "# Get a slice with entries 1 - 3\n",
    "\n",
    "array[1:3]"
   ]
  },
  {
   "cell_type": "code",
   "execution_count": 34,
   "metadata": {
    "collapsed": false
   },
   "outputs": [
    {
     "data": {
      "text/plain": [
       "array([0, 7, 7, 3, 4, 5])"
      ]
     },
     "execution_count": 34,
     "metadata": {},
     "output_type": "execute_result"
    }
   ],
   "source": [
    "# Change entries 1 - 3 to be 7\n",
    "array[1:3]=7\n",
    "array"
   ]
  },
  {
   "cell_type": "code",
   "execution_count": 43,
   "metadata": {
    "collapsed": false
   },
   "outputs": [
    {
     "data": {
      "text/plain": [
       "array([1, 2, 3, 4, 5, 6, 7, 8, 9])"
      ]
     },
     "execution_count": 43,
     "metadata": {},
     "output_type": "execute_result"
    }
   ],
   "source": [
    "#Array slices are views not copies \n",
    "#changes to slices change the array\n",
    "\n",
    "array = np.arange(5)\n",
    "\n",
    "\n",
    "# Get a slice with entries 1:3 and look at it\n",
    "array = np.array((1,2,3,4,5,6,7,8,9))\n",
    "array\n"
   ]
  },
  {
   "cell_type": "code",
   "execution_count": 44,
   "metadata": {
    "collapsed": false
   },
   "outputs": [
    {
     "data": {
      "text/plain": [
       "array([1, 7, 3, 4, 5, 6, 7, 8, 9])"
      ]
     },
     "execution_count": 44,
     "metadata": {},
     "output_type": "execute_result"
    }
   ],
   "source": [
    "# Change the entry 1 of the slice to 7\n",
    "array[1]=7\n",
    "# now look at array\n",
    "array"
   ]
  },
  {
   "cell_type": "code",
   "execution_count": 47,
   "metadata": {
    "collapsed": false
   },
   "outputs": [
    {
     "data": {
      "text/plain": [
       "6"
      ]
     },
     "execution_count": 47,
     "metadata": {},
     "output_type": "execute_result"
    }
   ],
   "source": [
    "#slice of a slice\n",
    "array[4:6][1]"
   ]
  },
  {
   "cell_type": "code",
   "execution_count": 58,
   "metadata": {
    "collapsed": false
   },
   "outputs": [
    {
     "data": {
      "text/plain": [
       "array([[1, 2, 3],\n",
       "       [4, 5, 6]])"
      ]
     },
     "execution_count": 58,
     "metadata": {},
     "output_type": "execute_result"
    }
   ],
   "source": [
    "# 2D Arrays\n",
    "array2d = np.array([(1,2,3),(4,5,6)])\n",
    "# 3 X 2\n",
    "array2d"
   ]
  },
  {
   "cell_type": "code",
   "execution_count": 59,
   "metadata": {
    "collapsed": false
   },
   "outputs": [
    {
     "data": {
      "text/plain": [
       "array([4, 5, 6])"
      ]
     },
     "execution_count": 59,
     "metadata": {},
     "output_type": "execute_result"
    }
   ],
   "source": [
    "# Get row 2\n",
    "array2d[1]\n"
   ]
  },
  {
   "cell_type": "code",
   "execution_count": 65,
   "metadata": {
    "collapsed": false
   },
   "outputs": [
    {
     "data": {
      "text/plain": [
       "array([[1, 3],\n",
       "       [4, 6]])"
      ]
     },
     "execution_count": 65,
     "metadata": {},
     "output_type": "execute_result"
    }
   ],
   "source": [
    "# Get column 2\n",
    "array2d[:,1]\n",
    "\n",
    "# Get columns 0 and 2\n",
    "array2d[:,[0,2]]\n"
   ]
  },
  {
   "cell_type": "code",
   "execution_count": 68,
   "metadata": {
    "collapsed": false
   },
   "outputs": [
    {
     "data": {
      "text/plain": [
       "6"
      ]
     },
     "execution_count": 68,
     "metadata": {},
     "output_type": "execute_result"
    }
   ],
   "source": [
    "# Get entry 1,2\n",
    "\n",
    "array2d[1,2]\n",
    "# another way\n",
    "array2d[1][2]\n"
   ]
  },
  {
   "cell_type": "code",
   "execution_count": 73,
   "metadata": {
    "collapsed": false
   },
   "outputs": [
    {
     "name": "stdout",
     "output_type": "stream",
     "text": [
      "[4 5 6]\n",
      "[2 5]\n",
      "[[1]\n",
      " [4]]\n",
      "[[2 3]\n",
      " [5 6]]\n"
     ]
    }
   ],
   "source": [
    "# Summary\n",
    "print(array2d[1]) #row #2\n",
    "print(array2d[:,1]) # col 2\n",
    "print(array2d[:,:1]) # everything before col 2 but does not include col 2.\n",
    "print(array2d[:2,1:]) # row 0 & 1, col 2 and after"
   ]
  },
  {
   "cell_type": "code",
   "execution_count": 88,
   "metadata": {
    "collapsed": false
   },
   "outputs": [
    {
     "data": {
      "text/plain": [
       "array([[[ 1,  2,  3],\n",
       "        [ 4,  5,  6]],\n",
       "\n",
       "       [[ 7,  8,  9],\n",
       "        [10, 11, 12]]])"
      ]
     },
     "execution_count": 88,
     "metadata": {},
     "output_type": "execute_result"
    }
   ],
   "source": [
    "# A 3d array\n",
    "array3d = np.array([[[1,2,3],[4,5,6]],[[7,8,9],[10,11,12]]])\n",
    "array3d"
   ]
  },
  {
   "cell_type": "code",
   "execution_count": 89,
   "metadata": {
    "collapsed": false
   },
   "outputs": [
    {
     "data": {
      "text/plain": [
       "array([[ 7,  8,  9],\n",
       "       [10, 11, 12]])"
      ]
     },
     "execution_count": 89,
     "metadata": {},
     "output_type": "execute_result"
    }
   ],
   "source": [
    "# A 2D slice with index 1\n",
    "array3d[1]"
   ]
  },
  {
   "cell_type": "code",
   "execution_count": 91,
   "metadata": {
    "collapsed": false
   },
   "outputs": [
    {
     "data": {
      "text/plain": [
       "array([4, 5, 6])"
      ]
     },
     "execution_count": 91,
     "metadata": {},
     "output_type": "execute_result"
    }
   ],
   "source": [
    "# Get all values with 0 in the first index and  1 in the 2nd\n",
    "array3d[0,1]\n"
   ]
  },
  {
   "cell_type": "code",
   "execution_count": 92,
   "metadata": {
    "collapsed": false
   },
   "outputs": [
    {
     "data": {
      "text/plain": [
       "6"
      ]
     },
     "execution_count": 92,
     "metadata": {},
     "output_type": "execute_result"
    }
   ],
   "source": [
    "# Get value 0, 1, 2\n",
    "array3d[0,1,2]"
   ]
  },
  {
   "cell_type": "markdown",
   "metadata": {},
   "source": [
    "__Boolean Indexing__"
   ]
  },
  {
   "cell_type": "code",
   "execution_count": 102,
   "metadata": {
    "collapsed": false
   },
   "outputs": [
    {
     "data": {
      "text/plain": [
       "array([[-2.26,  0.2 , -0.57, -0.2 ],\n",
       "       [ 0.33,  2.51, -1.04,  1.51],\n",
       "       [ 2.65, -1.28,  0.27,  0.33],\n",
       "       [ 0.92,  0.65,  0.17, -0.27],\n",
       "       [-0.1 ,  0.37, -1.25, -0.07],\n",
       "       [-0.79,  1.37,  0.06,  0.14],\n",
       "       [ 1.66,  2.36,  1.09, -0.92]])"
      ]
     },
     "execution_count": 102,
     "metadata": {},
     "output_type": "execute_result"
    }
   ],
   "source": [
    "# Generate 7x4 matrix with the randn function in np random\n",
    "\n",
    "from numpy import random as ran\n",
    "data = np.random.randn(7,4).round(2)\n",
    "data"
   ]
  },
  {
   "cell_type": "code",
   "execution_count": 96,
   "metadata": {
    "collapsed": false
   },
   "outputs": [
    {
     "data": {
      "text/plain": [
       "array(['blue', 'green', 'orange', 'blue', 'green', 'orange', 'red'], \n",
       "      dtype='<U6')"
      ]
     },
     "execution_count": 96,
     "metadata": {},
     "output_type": "execute_result"
    }
   ],
   "source": [
    "# A categorical array\n",
    "\n",
    "colors = np.array(['blue', 'green', 'orange', 'blue', 'green', 'orange', 'red'])\n",
    "colors"
   ]
  },
  {
   "cell_type": "code",
   "execution_count": 97,
   "metadata": {
    "collapsed": false
   },
   "outputs": [
    {
     "data": {
      "text/plain": [
       "array([False, False,  True, False, False,  True, False], dtype=bool)"
      ]
     },
     "execution_count": 97,
     "metadata": {},
     "output_type": "execute_result"
    }
   ],
   "source": [
    "# Use the comparison operator == to find the locations with orange color\n",
    "colors=='orange'\n"
   ]
  },
  {
   "cell_type": "code",
   "execution_count": 103,
   "metadata": {
    "collapsed": false
   },
   "outputs": [
    {
     "data": {
      "text/plain": [
       "array([[ 2.65, -1.28,  0.27,  0.33],\n",
       "       [-0.79,  1.37,  0.06,  0.14]])"
      ]
     },
     "execution_count": 103,
     "metadata": {},
     "output_type": "execute_result"
    }
   ],
   "source": [
    "# use the colors to index the rows in data associated with orange\n",
    "data[colors=='orange']\n"
   ]
  },
  {
   "cell_type": "code",
   "execution_count": 108,
   "metadata": {
    "collapsed": false
   },
   "outputs": [
    {
     "data": {
      "text/plain": [
       "array([[ 0.27,  0.33],\n",
       "       [ 0.06,  0.14]])"
      ]
     },
     "execution_count": 108,
     "metadata": {},
     "output_type": "execute_result"
    }
   ],
   "source": [
    "# find the columns in the orange slice that are indexed greater than 2\n",
    "data[colors=='orange',2:]\n"
   ]
  },
  {
   "cell_type": "code",
   "execution_count": 109,
   "metadata": {
    "collapsed": false
   },
   "outputs": [
    {
     "data": {
      "text/plain": [
       "array([[-2.26,  0.2 , -0.57, -0.2 ],\n",
       "       [ 2.65, -1.28,  0.27,  0.33],\n",
       "       [ 0.92,  0.65,  0.17, -0.27],\n",
       "       [-0.79,  1.37,  0.06,  0.14],\n",
       "       [ 1.66,  2.36,  1.09, -0.92]])"
      ]
     },
     "execution_count": 109,
     "metadata": {},
     "output_type": "execute_result"
    }
   ],
   "source": [
    "# find all but the green rows\n",
    "data[colors!='green']\n"
   ]
  },
  {
   "cell_type": "code",
   "execution_count": 114,
   "metadata": {
    "collapsed": false
   },
   "outputs": [
    {
     "data": {
      "text/plain": [
       "array([[-2.26,  0.2 , -0.57, -0.2 ],\n",
       "       [ 2.65, -1.28,  0.27,  0.33],\n",
       "       [ 0.92,  0.65,  0.17, -0.27],\n",
       "       [-0.79,  1.37,  0.06,  0.14],\n",
       "       [ 1.66,  2.36,  1.09, -0.92]])"
      ]
     },
     "execution_count": 114,
     "metadata": {},
     "output_type": "execute_result"
    }
   ],
   "source": [
    "# Find the non-green rows using ~\n",
    "\n",
    "data[~(colors=='green')]"
   ]
  },
  {
   "cell_type": "code",
   "execution_count": 117,
   "metadata": {
    "collapsed": false
   },
   "outputs": [
    {
     "data": {
      "text/plain": [
       "array([[-2.26,  0.2 , -0.57, -0.2 ],\n",
       "       [ 0.92,  0.65,  0.17, -0.27],\n",
       "       [ 1.66,  2.36,  1.09, -0.92]])"
      ]
     },
     "execution_count": 117,
     "metadata": {},
     "output_type": "execute_result"
    }
   ],
   "source": [
    "# Find blue or red rows\n",
    "\n",
    "data[(colors=='blue')|(colors=='red')]\n"
   ]
  },
  {
   "cell_type": "code",
   "execution_count": 118,
   "metadata": {
    "collapsed": false
   },
   "outputs": [
    {
     "data": {
      "text/plain": [
       "array([[-2.26,  0.2 , -0.57, -0.2 ],\n",
       "       [ 0.33,  2.51, -1.04,  1.51],\n",
       "       [ 2.65, -1.28,  0.27,  0.33],\n",
       "       [ 0.92,  0.65,  0.17, -0.27],\n",
       "       [-0.1 ,  0.37, -1.25, -0.07],\n",
       "       [-0.79,  1.37,  0.06,  0.14],\n",
       "       [ 1.66,  2.36,  1.09, -0.92]])"
      ]
     },
     "execution_count": 118,
     "metadata": {},
     "output_type": "execute_result"
    }
   ],
   "source": [
    "# Notice that boolean indexing always works with copies\n",
    "\n",
    "data"
   ]
  },
  {
   "cell_type": "markdown",
   "metadata": {},
   "source": [
    "__Fancy Indexing__ - indexing by integer arrays"
   ]
  },
  {
   "cell_type": "code",
   "execution_count": 119,
   "metadata": {
    "collapsed": false
   },
   "outputs": [
    {
     "data": {
      "text/plain": [
       "array([[ 0.,  0.,  0.,  0.,  0.],\n",
       "       [ 1.,  1.,  1.,  1.,  1.],\n",
       "       [ 2.,  2.,  2.,  2.,  2.],\n",
       "       [ 3.,  3.,  3.,  3.,  3.],\n",
       "       [ 4.,  4.,  4.,  4.,  4.],\n",
       "       [ 5.,  5.,  5.,  5.,  5.],\n",
       "       [ 6.,  6.,  6.,  6.,  6.],\n",
       "       [ 7.,  7.,  7.,  7.,  7.],\n",
       "       [ 8.,  8.,  8.,  8.,  8.]])"
      ]
     },
     "execution_count": 119,
     "metadata": {},
     "output_type": "execute_result"
    }
   ],
   "source": [
    "# Create an 9X5 array where the values in each row is the row number\n",
    "\n",
    "myarray = np.empty((9,5))\n",
    "\n",
    "for i in range(9):\n",
    "    myarray[i] = i\n",
    "    \n",
    "myarray"
   ]
  },
  {
   "cell_type": "code",
   "execution_count": 123,
   "metadata": {
    "collapsed": false
   },
   "outputs": [
    {
     "data": {
      "text/plain": [
       "array([[ 6.,  6.,  6.,  6.,  6.],\n",
       "       [ 5.,  5.,  5.,  5.,  5.],\n",
       "       [ 0.,  0.,  0.,  0.,  0.],\n",
       "       [ 3.,  3.,  3.,  3.,  3.]])"
      ]
     },
     "execution_count": 123,
     "metadata": {},
     "output_type": "execute_result"
    }
   ],
   "source": [
    "# Get a new array with the ordering of the rows: 6, 5, 0, 3\n",
    "myarray[[6,5,0,3]]\n"
   ]
  },
  {
   "cell_type": "code",
   "execution_count": 127,
   "metadata": {
    "collapsed": false
   },
   "outputs": [
    {
     "data": {
      "text/plain": [
       "array([[ 6.,  6.,  6.,  6.,  6.],\n",
       "       [ 5.,  5.,  5.,  5.,  5.],\n",
       "       [ 0.,  0.,  0.,  0.,  0.],\n",
       "       [ 3.,  3.,  3.,  3.,  3.]])"
      ]
     },
     "execution_count": 127,
     "metadata": {},
     "output_type": "execute_result"
    }
   ],
   "source": [
    "# use negative indices to select from the end\n",
    "\n",
    "myarray[[-3,-4,-9,-6]]"
   ]
  },
  {
   "cell_type": "code",
   "execution_count": 135,
   "metadata": {
    "collapsed": false
   },
   "outputs": [
    {
     "data": {
      "text/plain": [
       "array([[ 0,  1,  2,  3,  4],\n",
       "       [ 5,  6,  7,  8,  9],\n",
       "       [10, 11, 12, 13, 14],\n",
       "       [15, 16, 17, 18, 19],\n",
       "       [20, 21, 22, 23, 24],\n",
       "       [25, 26, 27, 28, 29],\n",
       "       [30, 31, 32, 33, 34],\n",
       "       [35, 36, 37, 38, 39],\n",
       "       [40, 41, 42, 43, 44]])"
      ]
     },
     "execution_count": 135,
     "metadata": {},
     "output_type": "execute_result"
    }
   ],
   "source": [
    "# use multiple index arrays to create a 1D array of value that\n",
    "# correspond to the locatons given by index values\n",
    "\n",
    "myarray = np.arange(45).reshape((9,5))\n",
    "myarray"
   ]
  },
  {
   "cell_type": "code",
   "execution_count": 138,
   "metadata": {
    "collapsed": false
   },
   "outputs": [
    {
     "data": {
      "text/plain": [
       "array([ 1, 33, 43, 22])"
      ]
     },
     "execution_count": 138,
     "metadata": {},
     "output_type": "execute_result"
    }
   ],
   "source": [
    "# select 0,1; 6,3; 8,3; 4,2\n",
    "\n",
    "myarray[[0,6,8,4],[1,3,3,2]]"
   ]
  },
  {
   "cell_type": "code",
   "execution_count": 139,
   "metadata": {
    "collapsed": false
   },
   "outputs": [
    {
     "data": {
      "text/plain": [
       "array([[ 1,  3,  3,  2],\n",
       "       [31, 33, 33, 32],\n",
       "       [41, 43, 43, 42],\n",
       "       [21, 23, 23, 22]])"
      ]
     },
     "execution_count": 139,
     "metadata": {},
     "output_type": "execute_result"
    }
   ],
   "source": [
    "# to get an array based on row and column selections\n",
    "\n",
    "# Select rows [0,6,8,4] and columns [1,3,3,2]\n",
    "myarray[[0,6,8,4]][:,[1,3,3,2]]\n"
   ]
  },
  {
   "cell_type": "code",
   "execution_count": 142,
   "metadata": {
    "collapsed": false
   },
   "outputs": [
    {
     "data": {
      "text/plain": [
       "array([[ 1,  3,  3,  2],\n",
       "       [31, 33, 33, 32],\n",
       "       [41, 43, 43, 42],\n",
       "       [21, 23, 23, 22]])"
      ]
     },
     "execution_count": 142,
     "metadata": {},
     "output_type": "execute_result"
    }
   ],
   "source": [
    "# or use use np.ix\n",
    "myarray[np.ix_([0,6,8,4],[1,3,3,2])]\n"
   ]
  },
  {
   "cell_type": "markdown",
   "metadata": {},
   "source": [
    "__Transposing Arrays__"
   ]
  },
  {
   "cell_type": "code",
   "execution_count": 143,
   "metadata": {
    "collapsed": false
   },
   "outputs": [
    {
     "data": {
      "text/plain": [
       "array([[ 0,  1,  2,  3,  4],\n",
       "       [ 5,  6,  7,  8,  9],\n",
       "       [10, 11, 12, 13, 14],\n",
       "       [15, 16, 17, 18, 19]])"
      ]
     },
     "execution_count": 143,
     "metadata": {},
     "output_type": "execute_result"
    }
   ],
   "source": [
    "myarray  = np.arange(20).reshape(4,5)\n",
    "myarray"
   ]
  },
  {
   "cell_type": "code",
   "execution_count": 144,
   "metadata": {
    "collapsed": false
   },
   "outputs": [
    {
     "data": {
      "text/plain": [
       "array([[ 0,  5, 10, 15],\n",
       "       [ 1,  6, 11, 16],\n",
       "       [ 2,  7, 12, 17],\n",
       "       [ 3,  8, 13, 18],\n",
       "       [ 4,  9, 14, 19]])"
      ]
     },
     "execution_count": 144,
     "metadata": {},
     "output_type": "execute_result"
    }
   ],
   "source": [
    "# Transpose\n",
    "\n",
    "myarray.T"
   ]
  },
  {
   "cell_type": "code",
   "execution_count": 145,
   "metadata": {
    "collapsed": false
   },
   "outputs": [
    {
     "data": {
      "text/plain": [
       "array([[[ 0,  1],\n",
       "        [ 2,  3],\n",
       "        [ 4,  5],\n",
       "        [ 6,  7],\n",
       "        [ 8,  9]],\n",
       "\n",
       "       [[10, 11],\n",
       "        [12, 13],\n",
       "        [14, 15],\n",
       "        [16, 17],\n",
       "        [18, 19]]])"
      ]
     },
     "execution_count": 145,
     "metadata": {},
     "output_type": "execute_result"
    }
   ],
   "source": [
    "# Transposing higher dimensional arrays can take axis numbers \n",
    "# for permuting\n",
    "\n",
    "myarray = np.arange(20).reshape((2,5,2))\n",
    "\n",
    "myarray"
   ]
  },
  {
   "cell_type": "code",
   "execution_count": 146,
   "metadata": {
    "collapsed": false
   },
   "outputs": [
    {
     "data": {
      "text/plain": [
       "array([[[ 0,  1],\n",
       "        [10, 11]],\n",
       "\n",
       "       [[ 2,  3],\n",
       "        [12, 13]],\n",
       "\n",
       "       [[ 4,  5],\n",
       "        [14, 15]],\n",
       "\n",
       "       [[ 6,  7],\n",
       "        [16, 17]],\n",
       "\n",
       "       [[ 8,  9],\n",
       "        [18, 19]]])"
      ]
     },
     "execution_count": 146,
     "metadata": {},
     "output_type": "execute_result"
    }
   ],
   "source": [
    " myarray.transpose((1,0,2))"
   ]
  },
  {
   "cell_type": "markdown",
   "metadata": {},
   "source": [
    "__Universal Functions__ \n",
    "\n",
    "These provide for vector opertions on arrays"
   ]
  },
  {
   "cell_type": "code",
   "execution_count": 149,
   "metadata": {
    "collapsed": false
   },
   "outputs": [
    {
     "data": {
      "text/plain": [
       "array([-4.60517019,  0.00995033,  0.69813472,  1.10194008,  1.38879124,\n",
       "        1.61143592,  1.79342475,  1.9473377 ,  2.08069076,  2.19833507])"
      ]
     },
     "execution_count": 149,
     "metadata": {},
     "output_type": "execute_result"
    }
   ],
   "source": [
    "# Example log\n",
    "\n",
    "myarray = np.arange(10) + .01\n",
    "\n",
    "np.log(myarray)"
   ]
  },
  {
   "cell_type": "code",
   "execution_count": 73,
   "metadata": {
    "collapsed": false
   },
   "outputs": [],
   "source": [
    "# Exponent of e\n"
   ]
  },
  {
   "cell_type": "markdown",
   "metadata": {},
   "source": [
    "__Array Processing__\n",
    "\n",
    "array expessions that avoid loops"
   ]
  },
  {
   "cell_type": "code",
   "execution_count": 3,
   "metadata": {
    "collapsed": false
   },
   "outputs": [
    {
     "data": {
      "text/plain": [
       "array([ -5.00000000e+00,  -4.99000000e+00,  -4.98000000e+00,\n",
       "        -4.97000000e+00,  -4.96000000e+00,  -4.95000000e+00,\n",
       "        -4.94000000e+00,  -4.93000000e+00,  -4.92000000e+00,\n",
       "        -4.91000000e+00,  -4.90000000e+00,  -4.89000000e+00,\n",
       "        -4.88000000e+00,  -4.87000000e+00,  -4.86000000e+00,\n",
       "        -4.85000000e+00,  -4.84000000e+00,  -4.83000000e+00,\n",
       "        -4.82000000e+00,  -4.81000000e+00,  -4.80000000e+00,\n",
       "        -4.79000000e+00,  -4.78000000e+00,  -4.77000000e+00,\n",
       "        -4.76000000e+00,  -4.75000000e+00,  -4.74000000e+00,\n",
       "        -4.73000000e+00,  -4.72000000e+00,  -4.71000000e+00,\n",
       "        -4.70000000e+00,  -4.69000000e+00,  -4.68000000e+00,\n",
       "        -4.67000000e+00,  -4.66000000e+00,  -4.65000000e+00,\n",
       "        -4.64000000e+00,  -4.63000000e+00,  -4.62000000e+00,\n",
       "        -4.61000000e+00,  -4.60000000e+00,  -4.59000000e+00,\n",
       "        -4.58000000e+00,  -4.57000000e+00,  -4.56000000e+00,\n",
       "        -4.55000000e+00,  -4.54000000e+00,  -4.53000000e+00,\n",
       "        -4.52000000e+00,  -4.51000000e+00,  -4.50000000e+00,\n",
       "        -4.49000000e+00,  -4.48000000e+00,  -4.47000000e+00,\n",
       "        -4.46000000e+00,  -4.45000000e+00,  -4.44000000e+00,\n",
       "        -4.43000000e+00,  -4.42000000e+00,  -4.41000000e+00,\n",
       "        -4.40000000e+00,  -4.39000000e+00,  -4.38000000e+00,\n",
       "        -4.37000000e+00,  -4.36000000e+00,  -4.35000000e+00,\n",
       "        -4.34000000e+00,  -4.33000000e+00,  -4.32000000e+00,\n",
       "        -4.31000000e+00,  -4.30000000e+00,  -4.29000000e+00,\n",
       "        -4.28000000e+00,  -4.27000000e+00,  -4.26000000e+00,\n",
       "        -4.25000000e+00,  -4.24000000e+00,  -4.23000000e+00,\n",
       "        -4.22000000e+00,  -4.21000000e+00,  -4.20000000e+00,\n",
       "        -4.19000000e+00,  -4.18000000e+00,  -4.17000000e+00,\n",
       "        -4.16000000e+00,  -4.15000000e+00,  -4.14000000e+00,\n",
       "        -4.13000000e+00,  -4.12000000e+00,  -4.11000000e+00,\n",
       "        -4.10000000e+00,  -4.09000000e+00,  -4.08000000e+00,\n",
       "        -4.07000000e+00,  -4.06000000e+00,  -4.05000000e+00,\n",
       "        -4.04000000e+00,  -4.03000000e+00,  -4.02000000e+00,\n",
       "        -4.01000000e+00,  -4.00000000e+00,  -3.99000000e+00,\n",
       "        -3.98000000e+00,  -3.97000000e+00,  -3.96000000e+00,\n",
       "        -3.95000000e+00,  -3.94000000e+00,  -3.93000000e+00,\n",
       "        -3.92000000e+00,  -3.91000000e+00,  -3.90000000e+00,\n",
       "        -3.89000000e+00,  -3.88000000e+00,  -3.87000000e+00,\n",
       "        -3.86000000e+00,  -3.85000000e+00,  -3.84000000e+00,\n",
       "        -3.83000000e+00,  -3.82000000e+00,  -3.81000000e+00,\n",
       "        -3.80000000e+00,  -3.79000000e+00,  -3.78000000e+00,\n",
       "        -3.77000000e+00,  -3.76000000e+00,  -3.75000000e+00,\n",
       "        -3.74000000e+00,  -3.73000000e+00,  -3.72000000e+00,\n",
       "        -3.71000000e+00,  -3.70000000e+00,  -3.69000000e+00,\n",
       "        -3.68000000e+00,  -3.67000000e+00,  -3.66000000e+00,\n",
       "        -3.65000000e+00,  -3.64000000e+00,  -3.63000000e+00,\n",
       "        -3.62000000e+00,  -3.61000000e+00,  -3.60000000e+00,\n",
       "        -3.59000000e+00,  -3.58000000e+00,  -3.57000000e+00,\n",
       "        -3.56000000e+00,  -3.55000000e+00,  -3.54000000e+00,\n",
       "        -3.53000000e+00,  -3.52000000e+00,  -3.51000000e+00,\n",
       "        -3.50000000e+00,  -3.49000000e+00,  -3.48000000e+00,\n",
       "        -3.47000000e+00,  -3.46000000e+00,  -3.45000000e+00,\n",
       "        -3.44000000e+00,  -3.43000000e+00,  -3.42000000e+00,\n",
       "        -3.41000000e+00,  -3.40000000e+00,  -3.39000000e+00,\n",
       "        -3.38000000e+00,  -3.37000000e+00,  -3.36000000e+00,\n",
       "        -3.35000000e+00,  -3.34000000e+00,  -3.33000000e+00,\n",
       "        -3.32000000e+00,  -3.31000000e+00,  -3.30000000e+00,\n",
       "        -3.29000000e+00,  -3.28000000e+00,  -3.27000000e+00,\n",
       "        -3.26000000e+00,  -3.25000000e+00,  -3.24000000e+00,\n",
       "        -3.23000000e+00,  -3.22000000e+00,  -3.21000000e+00,\n",
       "        -3.20000000e+00,  -3.19000000e+00,  -3.18000000e+00,\n",
       "        -3.17000000e+00,  -3.16000000e+00,  -3.15000000e+00,\n",
       "        -3.14000000e+00,  -3.13000000e+00,  -3.12000000e+00,\n",
       "        -3.11000000e+00,  -3.10000000e+00,  -3.09000000e+00,\n",
       "        -3.08000000e+00,  -3.07000000e+00,  -3.06000000e+00,\n",
       "        -3.05000000e+00,  -3.04000000e+00,  -3.03000000e+00,\n",
       "        -3.02000000e+00,  -3.01000000e+00,  -3.00000000e+00,\n",
       "        -2.99000000e+00,  -2.98000000e+00,  -2.97000000e+00,\n",
       "        -2.96000000e+00,  -2.95000000e+00,  -2.94000000e+00,\n",
       "        -2.93000000e+00,  -2.92000000e+00,  -2.91000000e+00,\n",
       "        -2.90000000e+00,  -2.89000000e+00,  -2.88000000e+00,\n",
       "        -2.87000000e+00,  -2.86000000e+00,  -2.85000000e+00,\n",
       "        -2.84000000e+00,  -2.83000000e+00,  -2.82000000e+00,\n",
       "        -2.81000000e+00,  -2.80000000e+00,  -2.79000000e+00,\n",
       "        -2.78000000e+00,  -2.77000000e+00,  -2.76000000e+00,\n",
       "        -2.75000000e+00,  -2.74000000e+00,  -2.73000000e+00,\n",
       "        -2.72000000e+00,  -2.71000000e+00,  -2.70000000e+00,\n",
       "        -2.69000000e+00,  -2.68000000e+00,  -2.67000000e+00,\n",
       "        -2.66000000e+00,  -2.65000000e+00,  -2.64000000e+00,\n",
       "        -2.63000000e+00,  -2.62000000e+00,  -2.61000000e+00,\n",
       "        -2.60000000e+00,  -2.59000000e+00,  -2.58000000e+00,\n",
       "        -2.57000000e+00,  -2.56000000e+00,  -2.55000000e+00,\n",
       "        -2.54000000e+00,  -2.53000000e+00,  -2.52000000e+00,\n",
       "        -2.51000000e+00,  -2.50000000e+00,  -2.49000000e+00,\n",
       "        -2.48000000e+00,  -2.47000000e+00,  -2.46000000e+00,\n",
       "        -2.45000000e+00,  -2.44000000e+00,  -2.43000000e+00,\n",
       "        -2.42000000e+00,  -2.41000000e+00,  -2.40000000e+00,\n",
       "        -2.39000000e+00,  -2.38000000e+00,  -2.37000000e+00,\n",
       "        -2.36000000e+00,  -2.35000000e+00,  -2.34000000e+00,\n",
       "        -2.33000000e+00,  -2.32000000e+00,  -2.31000000e+00,\n",
       "        -2.30000000e+00,  -2.29000000e+00,  -2.28000000e+00,\n",
       "        -2.27000000e+00,  -2.26000000e+00,  -2.25000000e+00,\n",
       "        -2.24000000e+00,  -2.23000000e+00,  -2.22000000e+00,\n",
       "        -2.21000000e+00,  -2.20000000e+00,  -2.19000000e+00,\n",
       "        -2.18000000e+00,  -2.17000000e+00,  -2.16000000e+00,\n",
       "        -2.15000000e+00,  -2.14000000e+00,  -2.13000000e+00,\n",
       "        -2.12000000e+00,  -2.11000000e+00,  -2.10000000e+00,\n",
       "        -2.09000000e+00,  -2.08000000e+00,  -2.07000000e+00,\n",
       "        -2.06000000e+00,  -2.05000000e+00,  -2.04000000e+00,\n",
       "        -2.03000000e+00,  -2.02000000e+00,  -2.01000000e+00,\n",
       "        -2.00000000e+00,  -1.99000000e+00,  -1.98000000e+00,\n",
       "        -1.97000000e+00,  -1.96000000e+00,  -1.95000000e+00,\n",
       "        -1.94000000e+00,  -1.93000000e+00,  -1.92000000e+00,\n",
       "        -1.91000000e+00,  -1.90000000e+00,  -1.89000000e+00,\n",
       "        -1.88000000e+00,  -1.87000000e+00,  -1.86000000e+00,\n",
       "        -1.85000000e+00,  -1.84000000e+00,  -1.83000000e+00,\n",
       "        -1.82000000e+00,  -1.81000000e+00,  -1.80000000e+00,\n",
       "        -1.79000000e+00,  -1.78000000e+00,  -1.77000000e+00,\n",
       "        -1.76000000e+00,  -1.75000000e+00,  -1.74000000e+00,\n",
       "        -1.73000000e+00,  -1.72000000e+00,  -1.71000000e+00,\n",
       "        -1.70000000e+00,  -1.69000000e+00,  -1.68000000e+00,\n",
       "        -1.67000000e+00,  -1.66000000e+00,  -1.65000000e+00,\n",
       "        -1.64000000e+00,  -1.63000000e+00,  -1.62000000e+00,\n",
       "        -1.61000000e+00,  -1.60000000e+00,  -1.59000000e+00,\n",
       "        -1.58000000e+00,  -1.57000000e+00,  -1.56000000e+00,\n",
       "        -1.55000000e+00,  -1.54000000e+00,  -1.53000000e+00,\n",
       "        -1.52000000e+00,  -1.51000000e+00,  -1.50000000e+00,\n",
       "        -1.49000000e+00,  -1.48000000e+00,  -1.47000000e+00,\n",
       "        -1.46000000e+00,  -1.45000000e+00,  -1.44000000e+00,\n",
       "        -1.43000000e+00,  -1.42000000e+00,  -1.41000000e+00,\n",
       "        -1.40000000e+00,  -1.39000000e+00,  -1.38000000e+00,\n",
       "        -1.37000000e+00,  -1.36000000e+00,  -1.35000000e+00,\n",
       "        -1.34000000e+00,  -1.33000000e+00,  -1.32000000e+00,\n",
       "        -1.31000000e+00,  -1.30000000e+00,  -1.29000000e+00,\n",
       "        -1.28000000e+00,  -1.27000000e+00,  -1.26000000e+00,\n",
       "        -1.25000000e+00,  -1.24000000e+00,  -1.23000000e+00,\n",
       "        -1.22000000e+00,  -1.21000000e+00,  -1.20000000e+00,\n",
       "        -1.19000000e+00,  -1.18000000e+00,  -1.17000000e+00,\n",
       "        -1.16000000e+00,  -1.15000000e+00,  -1.14000000e+00,\n",
       "        -1.13000000e+00,  -1.12000000e+00,  -1.11000000e+00,\n",
       "        -1.10000000e+00,  -1.09000000e+00,  -1.08000000e+00,\n",
       "        -1.07000000e+00,  -1.06000000e+00,  -1.05000000e+00,\n",
       "        -1.04000000e+00,  -1.03000000e+00,  -1.02000000e+00,\n",
       "        -1.01000000e+00,  -1.00000000e+00,  -9.90000000e-01,\n",
       "        -9.80000000e-01,  -9.70000000e-01,  -9.60000000e-01,\n",
       "        -9.50000000e-01,  -9.40000000e-01,  -9.30000000e-01,\n",
       "        -9.20000000e-01,  -9.10000000e-01,  -9.00000000e-01,\n",
       "        -8.90000000e-01,  -8.80000000e-01,  -8.70000000e-01,\n",
       "        -8.60000000e-01,  -8.50000000e-01,  -8.40000000e-01,\n",
       "        -8.30000000e-01,  -8.20000000e-01,  -8.10000000e-01,\n",
       "        -8.00000000e-01,  -7.90000000e-01,  -7.80000000e-01,\n",
       "        -7.70000000e-01,  -7.60000000e-01,  -7.50000000e-01,\n",
       "        -7.40000000e-01,  -7.30000000e-01,  -7.20000000e-01,\n",
       "        -7.10000000e-01,  -7.00000000e-01,  -6.90000000e-01,\n",
       "        -6.80000000e-01,  -6.70000000e-01,  -6.60000000e-01,\n",
       "        -6.50000000e-01,  -6.40000000e-01,  -6.30000000e-01,\n",
       "        -6.20000000e-01,  -6.10000000e-01,  -6.00000000e-01,\n",
       "        -5.90000000e-01,  -5.80000000e-01,  -5.70000000e-01,\n",
       "        -5.60000000e-01,  -5.50000000e-01,  -5.40000000e-01,\n",
       "        -5.30000000e-01,  -5.20000000e-01,  -5.10000000e-01,\n",
       "        -5.00000000e-01,  -4.90000000e-01,  -4.80000000e-01,\n",
       "        -4.70000000e-01,  -4.60000000e-01,  -4.50000000e-01,\n",
       "        -4.40000000e-01,  -4.30000000e-01,  -4.20000000e-01,\n",
       "        -4.10000000e-01,  -4.00000000e-01,  -3.90000000e-01,\n",
       "        -3.80000000e-01,  -3.70000000e-01,  -3.60000000e-01,\n",
       "        -3.50000000e-01,  -3.40000000e-01,  -3.30000000e-01,\n",
       "        -3.20000000e-01,  -3.10000000e-01,  -3.00000000e-01,\n",
       "        -2.90000000e-01,  -2.80000000e-01,  -2.70000000e-01,\n",
       "        -2.60000000e-01,  -2.50000000e-01,  -2.40000000e-01,\n",
       "        -2.30000000e-01,  -2.20000000e-01,  -2.10000000e-01,\n",
       "        -2.00000000e-01,  -1.90000000e-01,  -1.80000000e-01,\n",
       "        -1.70000000e-01,  -1.60000000e-01,  -1.50000000e-01,\n",
       "        -1.40000000e-01,  -1.30000000e-01,  -1.20000000e-01,\n",
       "        -1.10000000e-01,  -1.00000000e-01,  -9.00000000e-02,\n",
       "        -8.00000000e-02,  -7.00000000e-02,  -6.00000000e-02,\n",
       "        -5.00000000e-02,  -4.00000000e-02,  -3.00000000e-02,\n",
       "        -2.00000000e-02,  -1.00000000e-02,  -1.06581410e-13,\n",
       "         1.00000000e-02,   2.00000000e-02,   3.00000000e-02,\n",
       "         4.00000000e-02,   5.00000000e-02,   6.00000000e-02,\n",
       "         7.00000000e-02,   8.00000000e-02,   9.00000000e-02,\n",
       "         1.00000000e-01,   1.10000000e-01,   1.20000000e-01,\n",
       "         1.30000000e-01,   1.40000000e-01,   1.50000000e-01,\n",
       "         1.60000000e-01,   1.70000000e-01,   1.80000000e-01,\n",
       "         1.90000000e-01,   2.00000000e-01,   2.10000000e-01,\n",
       "         2.20000000e-01,   2.30000000e-01,   2.40000000e-01,\n",
       "         2.50000000e-01,   2.60000000e-01,   2.70000000e-01,\n",
       "         2.80000000e-01,   2.90000000e-01,   3.00000000e-01,\n",
       "         3.10000000e-01,   3.20000000e-01,   3.30000000e-01,\n",
       "         3.40000000e-01,   3.50000000e-01,   3.60000000e-01,\n",
       "         3.70000000e-01,   3.80000000e-01,   3.90000000e-01,\n",
       "         4.00000000e-01,   4.10000000e-01,   4.20000000e-01,\n",
       "         4.30000000e-01,   4.40000000e-01,   4.50000000e-01,\n",
       "         4.60000000e-01,   4.70000000e-01,   4.80000000e-01,\n",
       "         4.90000000e-01,   5.00000000e-01,   5.10000000e-01,\n",
       "         5.20000000e-01,   5.30000000e-01,   5.40000000e-01,\n",
       "         5.50000000e-01,   5.60000000e-01,   5.70000000e-01,\n",
       "         5.80000000e-01,   5.90000000e-01,   6.00000000e-01,\n",
       "         6.10000000e-01,   6.20000000e-01,   6.30000000e-01,\n",
       "         6.40000000e-01,   6.50000000e-01,   6.60000000e-01,\n",
       "         6.70000000e-01,   6.80000000e-01,   6.90000000e-01,\n",
       "         7.00000000e-01,   7.10000000e-01,   7.20000000e-01,\n",
       "         7.30000000e-01,   7.40000000e-01,   7.50000000e-01,\n",
       "         7.60000000e-01,   7.70000000e-01,   7.80000000e-01,\n",
       "         7.90000000e-01,   8.00000000e-01,   8.10000000e-01,\n",
       "         8.20000000e-01,   8.30000000e-01,   8.40000000e-01,\n",
       "         8.50000000e-01,   8.60000000e-01,   8.70000000e-01,\n",
       "         8.80000000e-01,   8.90000000e-01,   9.00000000e-01,\n",
       "         9.10000000e-01,   9.20000000e-01,   9.30000000e-01,\n",
       "         9.40000000e-01,   9.50000000e-01,   9.60000000e-01,\n",
       "         9.70000000e-01,   9.80000000e-01,   9.90000000e-01,\n",
       "         1.00000000e+00,   1.01000000e+00,   1.02000000e+00,\n",
       "         1.03000000e+00,   1.04000000e+00,   1.05000000e+00,\n",
       "         1.06000000e+00,   1.07000000e+00,   1.08000000e+00,\n",
       "         1.09000000e+00,   1.10000000e+00,   1.11000000e+00,\n",
       "         1.12000000e+00,   1.13000000e+00,   1.14000000e+00,\n",
       "         1.15000000e+00,   1.16000000e+00,   1.17000000e+00,\n",
       "         1.18000000e+00,   1.19000000e+00,   1.20000000e+00,\n",
       "         1.21000000e+00,   1.22000000e+00,   1.23000000e+00,\n",
       "         1.24000000e+00,   1.25000000e+00,   1.26000000e+00,\n",
       "         1.27000000e+00,   1.28000000e+00,   1.29000000e+00,\n",
       "         1.30000000e+00,   1.31000000e+00,   1.32000000e+00,\n",
       "         1.33000000e+00,   1.34000000e+00,   1.35000000e+00,\n",
       "         1.36000000e+00,   1.37000000e+00,   1.38000000e+00,\n",
       "         1.39000000e+00,   1.40000000e+00,   1.41000000e+00,\n",
       "         1.42000000e+00,   1.43000000e+00,   1.44000000e+00,\n",
       "         1.45000000e+00,   1.46000000e+00,   1.47000000e+00,\n",
       "         1.48000000e+00,   1.49000000e+00,   1.50000000e+00,\n",
       "         1.51000000e+00,   1.52000000e+00,   1.53000000e+00,\n",
       "         1.54000000e+00,   1.55000000e+00,   1.56000000e+00,\n",
       "         1.57000000e+00,   1.58000000e+00,   1.59000000e+00,\n",
       "         1.60000000e+00,   1.61000000e+00,   1.62000000e+00,\n",
       "         1.63000000e+00,   1.64000000e+00,   1.65000000e+00,\n",
       "         1.66000000e+00,   1.67000000e+00,   1.68000000e+00,\n",
       "         1.69000000e+00,   1.70000000e+00,   1.71000000e+00,\n",
       "         1.72000000e+00,   1.73000000e+00,   1.74000000e+00,\n",
       "         1.75000000e+00,   1.76000000e+00,   1.77000000e+00,\n",
       "         1.78000000e+00,   1.79000000e+00,   1.80000000e+00,\n",
       "         1.81000000e+00,   1.82000000e+00,   1.83000000e+00,\n",
       "         1.84000000e+00,   1.85000000e+00,   1.86000000e+00,\n",
       "         1.87000000e+00,   1.88000000e+00,   1.89000000e+00,\n",
       "         1.90000000e+00,   1.91000000e+00,   1.92000000e+00,\n",
       "         1.93000000e+00,   1.94000000e+00,   1.95000000e+00,\n",
       "         1.96000000e+00,   1.97000000e+00,   1.98000000e+00,\n",
       "         1.99000000e+00,   2.00000000e+00,   2.01000000e+00,\n",
       "         2.02000000e+00,   2.03000000e+00,   2.04000000e+00,\n",
       "         2.05000000e+00,   2.06000000e+00,   2.07000000e+00,\n",
       "         2.08000000e+00,   2.09000000e+00,   2.10000000e+00,\n",
       "         2.11000000e+00,   2.12000000e+00,   2.13000000e+00,\n",
       "         2.14000000e+00,   2.15000000e+00,   2.16000000e+00,\n",
       "         2.17000000e+00,   2.18000000e+00,   2.19000000e+00,\n",
       "         2.20000000e+00,   2.21000000e+00,   2.22000000e+00,\n",
       "         2.23000000e+00,   2.24000000e+00,   2.25000000e+00,\n",
       "         2.26000000e+00,   2.27000000e+00,   2.28000000e+00,\n",
       "         2.29000000e+00,   2.30000000e+00,   2.31000000e+00,\n",
       "         2.32000000e+00,   2.33000000e+00,   2.34000000e+00,\n",
       "         2.35000000e+00,   2.36000000e+00,   2.37000000e+00,\n",
       "         2.38000000e+00,   2.39000000e+00,   2.40000000e+00,\n",
       "         2.41000000e+00,   2.42000000e+00,   2.43000000e+00,\n",
       "         2.44000000e+00,   2.45000000e+00,   2.46000000e+00,\n",
       "         2.47000000e+00,   2.48000000e+00,   2.49000000e+00,\n",
       "         2.50000000e+00,   2.51000000e+00,   2.52000000e+00,\n",
       "         2.53000000e+00,   2.54000000e+00,   2.55000000e+00,\n",
       "         2.56000000e+00,   2.57000000e+00,   2.58000000e+00,\n",
       "         2.59000000e+00,   2.60000000e+00,   2.61000000e+00,\n",
       "         2.62000000e+00,   2.63000000e+00,   2.64000000e+00,\n",
       "         2.65000000e+00,   2.66000000e+00,   2.67000000e+00,\n",
       "         2.68000000e+00,   2.69000000e+00,   2.70000000e+00,\n",
       "         2.71000000e+00,   2.72000000e+00,   2.73000000e+00,\n",
       "         2.74000000e+00,   2.75000000e+00,   2.76000000e+00,\n",
       "         2.77000000e+00,   2.78000000e+00,   2.79000000e+00,\n",
       "         2.80000000e+00,   2.81000000e+00,   2.82000000e+00,\n",
       "         2.83000000e+00,   2.84000000e+00,   2.85000000e+00,\n",
       "         2.86000000e+00,   2.87000000e+00,   2.88000000e+00,\n",
       "         2.89000000e+00,   2.90000000e+00,   2.91000000e+00,\n",
       "         2.92000000e+00,   2.93000000e+00,   2.94000000e+00,\n",
       "         2.95000000e+00,   2.96000000e+00,   2.97000000e+00,\n",
       "         2.98000000e+00,   2.99000000e+00,   3.00000000e+00,\n",
       "         3.01000000e+00,   3.02000000e+00,   3.03000000e+00,\n",
       "         3.04000000e+00,   3.05000000e+00,   3.06000000e+00,\n",
       "         3.07000000e+00,   3.08000000e+00,   3.09000000e+00,\n",
       "         3.10000000e+00,   3.11000000e+00,   3.12000000e+00,\n",
       "         3.13000000e+00,   3.14000000e+00,   3.15000000e+00,\n",
       "         3.16000000e+00,   3.17000000e+00,   3.18000000e+00,\n",
       "         3.19000000e+00,   3.20000000e+00,   3.21000000e+00,\n",
       "         3.22000000e+00,   3.23000000e+00,   3.24000000e+00,\n",
       "         3.25000000e+00,   3.26000000e+00,   3.27000000e+00,\n",
       "         3.28000000e+00,   3.29000000e+00,   3.30000000e+00,\n",
       "         3.31000000e+00,   3.32000000e+00,   3.33000000e+00,\n",
       "         3.34000000e+00,   3.35000000e+00,   3.36000000e+00,\n",
       "         3.37000000e+00,   3.38000000e+00,   3.39000000e+00,\n",
       "         3.40000000e+00,   3.41000000e+00,   3.42000000e+00,\n",
       "         3.43000000e+00,   3.44000000e+00,   3.45000000e+00,\n",
       "         3.46000000e+00,   3.47000000e+00,   3.48000000e+00,\n",
       "         3.49000000e+00,   3.50000000e+00,   3.51000000e+00,\n",
       "         3.52000000e+00,   3.53000000e+00,   3.54000000e+00,\n",
       "         3.55000000e+00,   3.56000000e+00,   3.57000000e+00,\n",
       "         3.58000000e+00,   3.59000000e+00,   3.60000000e+00,\n",
       "         3.61000000e+00,   3.62000000e+00,   3.63000000e+00,\n",
       "         3.64000000e+00,   3.65000000e+00,   3.66000000e+00,\n",
       "         3.67000000e+00,   3.68000000e+00,   3.69000000e+00,\n",
       "         3.70000000e+00,   3.71000000e+00,   3.72000000e+00,\n",
       "         3.73000000e+00,   3.74000000e+00,   3.75000000e+00,\n",
       "         3.76000000e+00,   3.77000000e+00,   3.78000000e+00,\n",
       "         3.79000000e+00,   3.80000000e+00,   3.81000000e+00,\n",
       "         3.82000000e+00,   3.83000000e+00,   3.84000000e+00,\n",
       "         3.85000000e+00,   3.86000000e+00,   3.87000000e+00,\n",
       "         3.88000000e+00,   3.89000000e+00,   3.90000000e+00,\n",
       "         3.91000000e+00,   3.92000000e+00,   3.93000000e+00,\n",
       "         3.94000000e+00,   3.95000000e+00,   3.96000000e+00,\n",
       "         3.97000000e+00,   3.98000000e+00,   3.99000000e+00,\n",
       "         4.00000000e+00,   4.01000000e+00,   4.02000000e+00,\n",
       "         4.03000000e+00,   4.04000000e+00,   4.05000000e+00,\n",
       "         4.06000000e+00,   4.07000000e+00,   4.08000000e+00,\n",
       "         4.09000000e+00,   4.10000000e+00,   4.11000000e+00,\n",
       "         4.12000000e+00,   4.13000000e+00,   4.14000000e+00,\n",
       "         4.15000000e+00,   4.16000000e+00,   4.17000000e+00,\n",
       "         4.18000000e+00,   4.19000000e+00,   4.20000000e+00,\n",
       "         4.21000000e+00,   4.22000000e+00,   4.23000000e+00,\n",
       "         4.24000000e+00,   4.25000000e+00,   4.26000000e+00,\n",
       "         4.27000000e+00,   4.28000000e+00,   4.29000000e+00,\n",
       "         4.30000000e+00,   4.31000000e+00,   4.32000000e+00,\n",
       "         4.33000000e+00,   4.34000000e+00,   4.35000000e+00,\n",
       "         4.36000000e+00,   4.37000000e+00,   4.38000000e+00,\n",
       "         4.39000000e+00,   4.40000000e+00,   4.41000000e+00,\n",
       "         4.42000000e+00,   4.43000000e+00,   4.44000000e+00,\n",
       "         4.45000000e+00,   4.46000000e+00,   4.47000000e+00,\n",
       "         4.48000000e+00,   4.49000000e+00,   4.50000000e+00,\n",
       "         4.51000000e+00,   4.52000000e+00,   4.53000000e+00,\n",
       "         4.54000000e+00,   4.55000000e+00,   4.56000000e+00,\n",
       "         4.57000000e+00,   4.58000000e+00,   4.59000000e+00,\n",
       "         4.60000000e+00,   4.61000000e+00,   4.62000000e+00,\n",
       "         4.63000000e+00,   4.64000000e+00,   4.65000000e+00,\n",
       "         4.66000000e+00,   4.67000000e+00,   4.68000000e+00,\n",
       "         4.69000000e+00,   4.70000000e+00,   4.71000000e+00,\n",
       "         4.72000000e+00,   4.73000000e+00,   4.74000000e+00,\n",
       "         4.75000000e+00,   4.76000000e+00,   4.77000000e+00,\n",
       "         4.78000000e+00,   4.79000000e+00,   4.80000000e+00,\n",
       "         4.81000000e+00,   4.82000000e+00,   4.83000000e+00,\n",
       "         4.84000000e+00,   4.85000000e+00,   4.86000000e+00,\n",
       "         4.87000000e+00,   4.88000000e+00,   4.89000000e+00,\n",
       "         4.90000000e+00,   4.91000000e+00,   4.92000000e+00,\n",
       "         4.93000000e+00,   4.94000000e+00,   4.95000000e+00,\n",
       "         4.96000000e+00,   4.97000000e+00,   4.98000000e+00,\n",
       "         4.99000000e+00])"
      ]
     },
     "execution_count": 3,
     "metadata": {},
     "output_type": "execute_result"
    }
   ],
   "source": [
    "# Example Euclidean distance\n",
    "\n",
    "points = np.arange(-5,5,0.01) # 1000 equally spaced point for the grid\n",
    "points"
   ]
  },
  {
   "cell_type": "code",
   "execution_count": 24,
   "metadata": {
    "collapsed": false
   },
   "outputs": [],
   "source": [
    "# use np.meshgrid\n",
    "\n",
    "x,y =np.meshgrid(points, points)\n",
    "\n",
    "\n"
   ]
  },
  {
   "cell_type": "code",
   "execution_count": 7,
   "metadata": {
    "collapsed": false
   },
   "outputs": [
    {
     "data": {
      "text/plain": [
       "array([[ 7.07106781,  7.06400028,  7.05693985, ...,  7.04988652,\n",
       "         7.05693985,  7.06400028],\n",
       "       [ 7.06400028,  7.05692568,  7.04985815, ...,  7.04279774,\n",
       "         7.04985815,  7.05692568],\n",
       "       [ 7.05693985,  7.04985815,  7.04278354, ...,  7.03571603,\n",
       "         7.04278354,  7.04985815],\n",
       "       ..., \n",
       "       [ 7.04988652,  7.04279774,  7.03571603, ...,  7.0286414 ,\n",
       "         7.03571603,  7.04279774],\n",
       "       [ 7.05693985,  7.04985815,  7.04278354, ...,  7.03571603,\n",
       "         7.04278354,  7.04985815],\n",
       "       [ 7.06400028,  7.05692568,  7.04985815, ...,  7.04279774,\n",
       "         7.04985815,  7.05692568]])"
      ]
     },
     "execution_count": 7,
     "metadata": {},
     "output_type": "execute_result"
    }
   ],
   "source": [
    "# Get the Euclidean distance\n",
    "\n",
    "z = np.sqrt(x**2+y**2)\n",
    "z"
   ]
  },
  {
   "cell_type": "code",
   "execution_count": 8,
   "metadata": {
    "collapsed": false
   },
   "outputs": [
    {
     "data": {
      "text/plain": [
       "<matplotlib.text.Text at 0x112a2ce80>"
      ]
     },
     "execution_count": 8,
     "metadata": {},
     "output_type": "execute_result"
    },
    {
     "data": {
      "image/png": "[encoded data removed]",
      "text/plain": [
       "<matplotlib.figure.Figure at 0x11058f630>"
      ]
     },
     "metadata": {},
     "output_type": "display_data"
    }
   ],
   "source": [
    "# plot the result\n",
    "\n",
    "import matplotlib.pyplot as plt\n",
    "\n",
    "%matplotlib inline\n",
    "\n",
    "plt.imshow(z,cmap = plt.cm.gray); plt.colorbar()\n",
    "\n",
    "plt.title(\"Image of $\\sqrt{x^2 + y^2}$\")"
   ]
  },
  {
   "cell_type": "code",
   "execution_count": 76,
   "metadata": {
    "collapsed": false
   },
   "outputs": [
    {
     "data": {
      "text/plain": [
       "array([[ -5.00000000e+00],\n",
       "       [ -4.99000000e+00],\n",
       "       [ -4.98000000e+00],\n",
       "       [ -4.97000000e+00],\n",
       "       [ -4.96000000e+00],\n",
       "       [ -4.95000000e+00],\n",
       "       [ -4.94000000e+00],\n",
       "       [ -4.93000000e+00],\n",
       "       [ -4.92000000e+00],\n",
       "       [ -4.91000000e+00],\n",
       "       [ -4.90000000e+00],\n",
       "       [ -4.89000000e+00],\n",
       "       [ -4.88000000e+00],\n",
       "       [ -4.87000000e+00],\n",
       "       [ -4.86000000e+00],\n",
       "       [ -4.85000000e+00],\n",
       "       [ -4.84000000e+00],\n",
       "       [ -4.83000000e+00],\n",
       "       [ -4.82000000e+00],\n",
       "       [ -4.81000000e+00],\n",
       "       [ -4.80000000e+00],\n",
       "       [ -4.79000000e+00],\n",
       "       [ -4.78000000e+00],\n",
       "       [ -4.77000000e+00],\n",
       "       [ -4.76000000e+00],\n",
       "       [ -4.75000000e+00],\n",
       "       [ -4.74000000e+00],\n",
       "       [ -4.73000000e+00],\n",
       "       [ -4.72000000e+00],\n",
       "       [ -4.71000000e+00],\n",
       "       [ -4.70000000e+00],\n",
       "       [ -4.69000000e+00],\n",
       "       [ -4.68000000e+00],\n",
       "       [ -4.67000000e+00],\n",
       "       [ -4.66000000e+00],\n",
       "       [ -4.65000000e+00],\n",
       "       [ -4.64000000e+00],\n",
       "       [ -4.63000000e+00],\n",
       "       [ -4.62000000e+00],\n",
       "       [ -4.61000000e+00],\n",
       "       [ -4.60000000e+00],\n",
       "       [ -4.59000000e+00],\n",
       "       [ -4.58000000e+00],\n",
       "       [ -4.57000000e+00],\n",
       "       [ -4.56000000e+00],\n",
       "       [ -4.55000000e+00],\n",
       "       [ -4.54000000e+00],\n",
       "       [ -4.53000000e+00],\n",
       "       [ -4.52000000e+00],\n",
       "       [ -4.51000000e+00],\n",
       "       [ -4.50000000e+00],\n",
       "       [ -4.49000000e+00],\n",
       "       [ -4.48000000e+00],\n",
       "       [ -4.47000000e+00],\n",
       "       [ -4.46000000e+00],\n",
       "       [ -4.45000000e+00],\n",
       "       [ -4.44000000e+00],\n",
       "       [ -4.43000000e+00],\n",
       "       [ -4.42000000e+00],\n",
       "       [ -4.41000000e+00],\n",
       "       [ -4.40000000e+00],\n",
       "       [ -4.39000000e+00],\n",
       "       [ -4.38000000e+00],\n",
       "       [ -4.37000000e+00],\n",
       "       [ -4.36000000e+00],\n",
       "       [ -4.35000000e+00],\n",
       "       [ -4.34000000e+00],\n",
       "       [ -4.33000000e+00],\n",
       "       [ -4.32000000e+00],\n",
       "       [ -4.31000000e+00],\n",
       "       [ -4.30000000e+00],\n",
       "       [ -4.29000000e+00],\n",
       "       [ -4.28000000e+00],\n",
       "       [ -4.27000000e+00],\n",
       "       [ -4.26000000e+00],\n",
       "       [ -4.25000000e+00],\n",
       "       [ -4.24000000e+00],\n",
       "       [ -4.23000000e+00],\n",
       "       [ -4.22000000e+00],\n",
       "       [ -4.21000000e+00],\n",
       "       [ -4.20000000e+00],\n",
       "       [ -4.19000000e+00],\n",
       "       [ -4.18000000e+00],\n",
       "       [ -4.17000000e+00],\n",
       "       [ -4.16000000e+00],\n",
       "       [ -4.15000000e+00],\n",
       "       [ -4.14000000e+00],\n",
       "       [ -4.13000000e+00],\n",
       "       [ -4.12000000e+00],\n",
       "       [ -4.11000000e+00],\n",
       "       [ -4.10000000e+00],\n",
       "       [ -4.09000000e+00],\n",
       "       [ -4.08000000e+00],\n",
       "       [ -4.07000000e+00],\n",
       "       [ -4.06000000e+00],\n",
       "       [ -4.05000000e+00],\n",
       "       [ -4.04000000e+00],\n",
       "       [ -4.03000000e+00],\n",
       "       [ -4.02000000e+00],\n",
       "       [ -4.01000000e+00],\n",
       "       [ -4.00000000e+00],\n",
       "       [ -3.99000000e+00],\n",
       "       [ -3.98000000e+00],\n",
       "       [ -3.97000000e+00],\n",
       "       [ -3.96000000e+00],\n",
       "       [ -3.95000000e+00],\n",
       "       [ -3.94000000e+00],\n",
       "       [ -3.93000000e+00],\n",
       "       [ -3.92000000e+00],\n",
       "       [ -3.91000000e+00],\n",
       "       [ -3.90000000e+00],\n",
       "       [ -3.89000000e+00],\n",
       "       [ -3.88000000e+00],\n",
       "       [ -3.87000000e+00],\n",
       "       [ -3.86000000e+00],\n",
       "       [ -3.85000000e+00],\n",
       "       [ -3.84000000e+00],\n",
       "       [ -3.83000000e+00],\n",
       "       [ -3.82000000e+00],\n",
       "       [ -3.81000000e+00],\n",
       "       [ -3.80000000e+00],\n",
       "       [ -3.79000000e+00],\n",
       "       [ -3.78000000e+00],\n",
       "       [ -3.77000000e+00],\n",
       "       [ -3.76000000e+00],\n",
       "       [ -3.75000000e+00],\n",
       "       [ -3.74000000e+00],\n",
       "       [ -3.73000000e+00],\n",
       "       [ -3.72000000e+00],\n",
       "       [ -3.71000000e+00],\n",
       "       [ -3.70000000e+00],\n",
       "       [ -3.69000000e+00],\n",
       "       [ -3.68000000e+00],\n",
       "       [ -3.67000000e+00],\n",
       "       [ -3.66000000e+00],\n",
       "       [ -3.65000000e+00],\n",
       "       [ -3.64000000e+00],\n",
       "       [ -3.63000000e+00],\n",
       "       [ -3.62000000e+00],\n",
       "       [ -3.61000000e+00],\n",
       "       [ -3.60000000e+00],\n",
       "       [ -3.59000000e+00],\n",
       "       [ -3.58000000e+00],\n",
       "       [ -3.57000000e+00],\n",
       "       [ -3.56000000e+00],\n",
       "       [ -3.55000000e+00],\n",
       "       [ -3.54000000e+00],\n",
       "       [ -3.53000000e+00],\n",
       "       [ -3.52000000e+00],\n",
       "       [ -3.51000000e+00],\n",
       "       [ -3.50000000e+00],\n",
       "       [ -3.49000000e+00],\n",
       "       [ -3.48000000e+00],\n",
       "       [ -3.47000000e+00],\n",
       "       [ -3.46000000e+00],\n",
       "       [ -3.45000000e+00],\n",
       "       [ -3.44000000e+00],\n",
       "       [ -3.43000000e+00],\n",
       "       [ -3.42000000e+00],\n",
       "       [ -3.41000000e+00],\n",
       "       [ -3.40000000e+00],\n",
       "       [ -3.39000000e+00],\n",
       "       [ -3.38000000e+00],\n",
       "       [ -3.37000000e+00],\n",
       "       [ -3.36000000e+00],\n",
       "       [ -3.35000000e+00],\n",
       "       [ -3.34000000e+00],\n",
       "       [ -3.33000000e+00],\n",
       "       [ -3.32000000e+00],\n",
       "       [ -3.31000000e+00],\n",
       "       [ -3.30000000e+00],\n",
       "       [ -3.29000000e+00],\n",
       "       [ -3.28000000e+00],\n",
       "       [ -3.27000000e+00],\n",
       "       [ -3.26000000e+00],\n",
       "       [ -3.25000000e+00],\n",
       "       [ -3.24000000e+00],\n",
       "       [ -3.23000000e+00],\n",
       "       [ -3.22000000e+00],\n",
       "       [ -3.21000000e+00],\n",
       "       [ -3.20000000e+00],\n",
       "       [ -3.19000000e+00],\n",
       "       [ -3.18000000e+00],\n",
       "       [ -3.17000000e+00],\n",
       "       [ -3.16000000e+00],\n",
       "       [ -3.15000000e+00],\n",
       "       [ -3.14000000e+00],\n",
       "       [ -3.13000000e+00],\n",
       "       [ -3.12000000e+00],\n",
       "       [ -3.11000000e+00],\n",
       "       [ -3.10000000e+00],\n",
       "       [ -3.09000000e+00],\n",
       "       [ -3.08000000e+00],\n",
       "       [ -3.07000000e+00],\n",
       "       [ -3.06000000e+00],\n",
       "       [ -3.05000000e+00],\n",
       "       [ -3.04000000e+00],\n",
       "       [ -3.03000000e+00],\n",
       "       [ -3.02000000e+00],\n",
       "       [ -3.01000000e+00],\n",
       "       [ -3.00000000e+00],\n",
       "       [ -2.99000000e+00],\n",
       "       [ -2.98000000e+00],\n",
       "       [ -2.97000000e+00],\n",
       "       [ -2.96000000e+00],\n",
       "       [ -2.95000000e+00],\n",
       "       [ -2.94000000e+00],\n",
       "       [ -2.93000000e+00],\n",
       "       [ -2.92000000e+00],\n",
       "       [ -2.91000000e+00],\n",
       "       [ -2.90000000e+00],\n",
       "       [ -2.89000000e+00],\n",
       "       [ -2.88000000e+00],\n",
       "       [ -2.87000000e+00],\n",
       "       [ -2.86000000e+00],\n",
       "       [ -2.85000000e+00],\n",
       "       [ -2.84000000e+00],\n",
       "       [ -2.83000000e+00],\n",
       "       [ -2.82000000e+00],\n",
       "       [ -2.81000000e+00],\n",
       "       [ -2.80000000e+00],\n",
       "       [ -2.79000000e+00],\n",
       "       [ -2.78000000e+00],\n",
       "       [ -2.77000000e+00],\n",
       "       [ -2.76000000e+00],\n",
       "       [ -2.75000000e+00],\n",
       "       [ -2.74000000e+00],\n",
       "       [ -2.73000000e+00],\n",
       "       [ -2.72000000e+00],\n",
       "       [ -2.71000000e+00],\n",
       "       [ -2.70000000e+00],\n",
       "       [ -2.69000000e+00],\n",
       "       [ -2.68000000e+00],\n",
       "       [ -2.67000000e+00],\n",
       "       [ -2.66000000e+00],\n",
       "       [ -2.65000000e+00],\n",
       "       [ -2.64000000e+00],\n",
       "       [ -2.63000000e+00],\n",
       "       [ -2.62000000e+00],\n",
       "       [ -2.61000000e+00],\n",
       "       [ -2.60000000e+00],\n",
       "       [ -2.59000000e+00],\n",
       "       [ -2.58000000e+00],\n",
       "       [ -2.57000000e+00],\n",
       "       [ -2.56000000e+00],\n",
       "       [ -2.55000000e+00],\n",
       "       [ -2.54000000e+00],\n",
       "       [ -2.53000000e+00],\n",
       "       [ -2.52000000e+00],\n",
       "       [ -2.51000000e+00],\n",
       "       [ -2.50000000e+00],\n",
       "       [ -2.49000000e+00],\n",
       "       [ -2.48000000e+00],\n",
       "       [ -2.47000000e+00],\n",
       "       [ -2.46000000e+00],\n",
       "       [ -2.45000000e+00],\n",
       "       [ -2.44000000e+00],\n",
       "       [ -2.43000000e+00],\n",
       "       [ -2.42000000e+00],\n",
       "       [ -2.41000000e+00],\n",
       "       [ -2.40000000e+00],\n",
       "       [ -2.39000000e+00],\n",
       "       [ -2.38000000e+00],\n",
       "       [ -2.37000000e+00],\n",
       "       [ -2.36000000e+00],\n",
       "       [ -2.35000000e+00],\n",
       "       [ -2.34000000e+00],\n",
       "       [ -2.33000000e+00],\n",
       "       [ -2.32000000e+00],\n",
       "       [ -2.31000000e+00],\n",
       "       [ -2.30000000e+00],\n",
       "       [ -2.29000000e+00],\n",
       "       [ -2.28000000e+00],\n",
       "       [ -2.27000000e+00],\n",
       "       [ -2.26000000e+00],\n",
       "       [ -2.25000000e+00],\n",
       "       [ -2.24000000e+00],\n",
       "       [ -2.23000000e+00],\n",
       "       [ -2.22000000e+00],\n",
       "       [ -2.21000000e+00],\n",
       "       [ -2.20000000e+00],\n",
       "       [ -2.19000000e+00],\n",
       "       [ -2.18000000e+00],\n",
       "       [ -2.17000000e+00],\n",
       "       [ -2.16000000e+00],\n",
       "       [ -2.15000000e+00],\n",
       "       [ -2.14000000e+00],\n",
       "       [ -2.13000000e+00],\n",
       "       [ -2.12000000e+00],\n",
       "       [ -2.11000000e+00],\n",
       "       [ -2.10000000e+00],\n",
       "       [ -2.09000000e+00],\n",
       "       [ -2.08000000e+00],\n",
       "       [ -2.07000000e+00],\n",
       "       [ -2.06000000e+00],\n",
       "       [ -2.05000000e+00],\n",
       "       [ -2.04000000e+00],\n",
       "       [ -2.03000000e+00],\n",
       "       [ -2.02000000e+00],\n",
       "       [ -2.01000000e+00],\n",
       "       [ -2.00000000e+00],\n",
       "       [ -1.99000000e+00],\n",
       "       [ -1.98000000e+00],\n",
       "       [ -1.97000000e+00],\n",
       "       [ -1.96000000e+00],\n",
       "       [ -1.95000000e+00],\n",
       "       [ -1.94000000e+00],\n",
       "       [ -1.93000000e+00],\n",
       "       [ -1.92000000e+00],\n",
       "       [ -1.91000000e+00],\n",
       "       [ -1.90000000e+00],\n",
       "       [ -1.89000000e+00],\n",
       "       [ -1.88000000e+00],\n",
       "       [ -1.87000000e+00],\n",
       "       [ -1.86000000e+00],\n",
       "       [ -1.85000000e+00],\n",
       "       [ -1.84000000e+00],\n",
       "       [ -1.83000000e+00],\n",
       "       [ -1.82000000e+00],\n",
       "       [ -1.81000000e+00],\n",
       "       [ -1.80000000e+00],\n",
       "       [ -1.79000000e+00],\n",
       "       [ -1.78000000e+00],\n",
       "       [ -1.77000000e+00],\n",
       "       [ -1.76000000e+00],\n",
       "       [ -1.75000000e+00],\n",
       "       [ -1.74000000e+00],\n",
       "       [ -1.73000000e+00],\n",
       "       [ -1.72000000e+00],\n",
       "       [ -1.71000000e+00],\n",
       "       [ -1.70000000e+00],\n",
       "       [ -1.69000000e+00],\n",
       "       [ -1.68000000e+00],\n",
       "       [ -1.67000000e+00],\n",
       "       [ -1.66000000e+00],\n",
       "       [ -1.65000000e+00],\n",
       "       [ -1.64000000e+00],\n",
       "       [ -1.63000000e+00],\n",
       "       [ -1.62000000e+00],\n",
       "       [ -1.61000000e+00],\n",
       "       [ -1.60000000e+00],\n",
       "       [ -1.59000000e+00],\n",
       "       [ -1.58000000e+00],\n",
       "       [ -1.57000000e+00],\n",
       "       [ -1.56000000e+00],\n",
       "       [ -1.55000000e+00],\n",
       "       [ -1.54000000e+00],\n",
       "       [ -1.53000000e+00],\n",
       "       [ -1.52000000e+00],\n",
       "       [ -1.51000000e+00],\n",
       "       [ -1.50000000e+00],\n",
       "       [ -1.49000000e+00],\n",
       "       [ -1.48000000e+00],\n",
       "       [ -1.47000000e+00],\n",
       "       [ -1.46000000e+00],\n",
       "       [ -1.45000000e+00],\n",
       "       [ -1.44000000e+00],\n",
       "       [ -1.43000000e+00],\n",
       "       [ -1.42000000e+00],\n",
       "       [ -1.41000000e+00],\n",
       "       [ -1.40000000e+00],\n",
       "       [ -1.39000000e+00],\n",
       "       [ -1.38000000e+00],\n",
       "       [ -1.37000000e+00],\n",
       "       [ -1.36000000e+00],\n",
       "       [ -1.35000000e+00],\n",
       "       [ -1.34000000e+00],\n",
       "       [ -1.33000000e+00],\n",
       "       [ -1.32000000e+00],\n",
       "       [ -1.31000000e+00],\n",
       "       [ -1.30000000e+00],\n",
       "       [ -1.29000000e+00],\n",
       "       [ -1.28000000e+00],\n",
       "       [ -1.27000000e+00],\n",
       "       [ -1.26000000e+00],\n",
       "       [ -1.25000000e+00],\n",
       "       [ -1.24000000e+00],\n",
       "       [ -1.23000000e+00],\n",
       "       [ -1.22000000e+00],\n",
       "       [ -1.21000000e+00],\n",
       "       [ -1.20000000e+00],\n",
       "       [ -1.19000000e+00],\n",
       "       [ -1.18000000e+00],\n",
       "       [ -1.17000000e+00],\n",
       "       [ -1.16000000e+00],\n",
       "       [ -1.15000000e+00],\n",
       "       [ -1.14000000e+00],\n",
       "       [ -1.13000000e+00],\n",
       "       [ -1.12000000e+00],\n",
       "       [ -1.11000000e+00],\n",
       "       [ -1.10000000e+00],\n",
       "       [ -1.09000000e+00],\n",
       "       [ -1.08000000e+00],\n",
       "       [ -1.07000000e+00],\n",
       "       [ -1.06000000e+00],\n",
       "       [ -1.05000000e+00],\n",
       "       [ -1.04000000e+00],\n",
       "       [ -1.03000000e+00],\n",
       "       [ -1.02000000e+00],\n",
       "       [ -1.01000000e+00],\n",
       "       [ -1.00000000e+00],\n",
       "       [ -9.90000000e-01],\n",
       "       [ -9.80000000e-01],\n",
       "       [ -9.70000000e-01],\n",
       "       [ -9.60000000e-01],\n",
       "       [ -9.50000000e-01],\n",
       "       [ -9.40000000e-01],\n",
       "       [ -9.30000000e-01],\n",
       "       [ -9.20000000e-01],\n",
       "       [ -9.10000000e-01],\n",
       "       [ -9.00000000e-01],\n",
       "       [ -8.90000000e-01],\n",
       "       [ -8.80000000e-01],\n",
       "       [ -8.70000000e-01],\n",
       "       [ -8.60000000e-01],\n",
       "       [ -8.50000000e-01],\n",
       "       [ -8.40000000e-01],\n",
       "       [ -8.30000000e-01],\n",
       "       [ -8.20000000e-01],\n",
       "       [ -8.10000000e-01],\n",
       "       [ -8.00000000e-01],\n",
       "       [ -7.90000000e-01],\n",
       "       [ -7.80000000e-01],\n",
       "       [ -7.70000000e-01],\n",
       "       [ -7.60000000e-01],\n",
       "       [ -7.50000000e-01],\n",
       "       [ -7.40000000e-01],\n",
       "       [ -7.30000000e-01],\n",
       "       [ -7.20000000e-01],\n",
       "       [ -7.10000000e-01],\n",
       "       [ -7.00000000e-01],\n",
       "       [ -6.90000000e-01],\n",
       "       [ -6.80000000e-01],\n",
       "       [ -6.70000000e-01],\n",
       "       [ -6.60000000e-01],\n",
       "       [ -6.50000000e-01],\n",
       "       [ -6.40000000e-01],\n",
       "       [ -6.30000000e-01],\n",
       "       [ -6.20000000e-01],\n",
       "       [ -6.10000000e-01],\n",
       "       [ -6.00000000e-01],\n",
       "       [ -5.90000000e-01],\n",
       "       [ -5.80000000e-01],\n",
       "       [ -5.70000000e-01],\n",
       "       [ -5.60000000e-01],\n",
       "       [ -5.50000000e-01],\n",
       "       [ -5.40000000e-01],\n",
       "       [ -5.30000000e-01],\n",
       "       [ -5.20000000e-01],\n",
       "       [ -5.10000000e-01],\n",
       "       [ -5.00000000e-01],\n",
       "       [ -4.90000000e-01],\n",
       "       [ -4.80000000e-01],\n",
       "       [ -4.70000000e-01],\n",
       "       [ -4.60000000e-01],\n",
       "       [ -4.50000000e-01],\n",
       "       [ -4.40000000e-01],\n",
       "       [ -4.30000000e-01],\n",
       "       [ -4.20000000e-01],\n",
       "       [ -4.10000000e-01],\n",
       "       [ -4.00000000e-01],\n",
       "       [ -3.90000000e-01],\n",
       "       [ -3.80000000e-01],\n",
       "       [ -3.70000000e-01],\n",
       "       [ -3.60000000e-01],\n",
       "       [ -3.50000000e-01],\n",
       "       [ -3.40000000e-01],\n",
       "       [ -3.30000000e-01],\n",
       "       [ -3.20000000e-01],\n",
       "       [ -3.10000000e-01],\n",
       "       [ -3.00000000e-01],\n",
       "       [ -2.90000000e-01],\n",
       "       [ -2.80000000e-01],\n",
       "       [ -2.70000000e-01],\n",
       "       [ -2.60000000e-01],\n",
       "       [ -2.50000000e-01],\n",
       "       [ -2.40000000e-01],\n",
       "       [ -2.30000000e-01],\n",
       "       [ -2.20000000e-01],\n",
       "       [ -2.10000000e-01],\n",
       "       [ -2.00000000e-01],\n",
       "       [ -1.90000000e-01],\n",
       "       [ -1.80000000e-01],\n",
       "       [ -1.70000000e-01],\n",
       "       [ -1.60000000e-01],\n",
       "       [ -1.50000000e-01],\n",
       "       [ -1.40000000e-01],\n",
       "       [ -1.30000000e-01],\n",
       "       [ -1.20000000e-01],\n",
       "       [ -1.10000000e-01],\n",
       "       [ -1.00000000e-01],\n",
       "       [ -9.00000000e-02],\n",
       "       [ -8.00000000e-02],\n",
       "       [ -7.00000000e-02],\n",
       "       [ -6.00000000e-02],\n",
       "       [ -5.00000000e-02],\n",
       "       [ -4.00000000e-02],\n",
       "       [ -3.00000000e-02],\n",
       "       [ -2.00000000e-02],\n",
       "       [ -1.00000000e-02],\n",
       "       [ -1.06581410e-13],\n",
       "       [  1.00000000e-02],\n",
       "       [  2.00000000e-02],\n",
       "       [  3.00000000e-02],\n",
       "       [  4.00000000e-02],\n",
       "       [  5.00000000e-02],\n",
       "       [  6.00000000e-02],\n",
       "       [  7.00000000e-02],\n",
       "       [  8.00000000e-02],\n",
       "       [  9.00000000e-02],\n",
       "       [  1.00000000e-01],\n",
       "       [  1.10000000e-01],\n",
       "       [  1.20000000e-01],\n",
       "       [  1.30000000e-01],\n",
       "       [  1.40000000e-01],\n",
       "       [  1.50000000e-01],\n",
       "       [  1.60000000e-01],\n",
       "       [  1.70000000e-01],\n",
       "       [  1.80000000e-01],\n",
       "       [  1.90000000e-01],\n",
       "       [  2.00000000e-01],\n",
       "       [  2.10000000e-01],\n",
       "       [  2.20000000e-01],\n",
       "       [  2.30000000e-01],\n",
       "       [  2.40000000e-01],\n",
       "       [  2.50000000e-01],\n",
       "       [  2.60000000e-01],\n",
       "       [  2.70000000e-01],\n",
       "       [  2.80000000e-01],\n",
       "       [  2.90000000e-01],\n",
       "       [  3.00000000e-01],\n",
       "       [  3.10000000e-01],\n",
       "       [  3.20000000e-01],\n",
       "       [  3.30000000e-01],\n",
       "       [  3.40000000e-01],\n",
       "       [  3.50000000e-01],\n",
       "       [  3.60000000e-01],\n",
       "       [  3.70000000e-01],\n",
       "       [  3.80000000e-01],\n",
       "       [  3.90000000e-01],\n",
       "       [  4.00000000e-01],\n",
       "       [  4.10000000e-01],\n",
       "       [  4.20000000e-01],\n",
       "       [  4.30000000e-01],\n",
       "       [  4.40000000e-01],\n",
       "       [  4.50000000e-01],\n",
       "       [  4.60000000e-01],\n",
       "       [  4.70000000e-01],\n",
       "       [  4.80000000e-01],\n",
       "       [  4.90000000e-01],\n",
       "       [  5.00000000e-01],\n",
       "       [  5.10000000e-01],\n",
       "       [  5.20000000e-01],\n",
       "       [  5.30000000e-01],\n",
       "       [  5.40000000e-01],\n",
       "       [  5.50000000e-01],\n",
       "       [  5.60000000e-01],\n",
       "       [  5.70000000e-01],\n",
       "       [  5.80000000e-01],\n",
       "       [  5.90000000e-01],\n",
       "       [  6.00000000e-01],\n",
       "       [  6.10000000e-01],\n",
       "       [  6.20000000e-01],\n",
       "       [  6.30000000e-01],\n",
       "       [  6.40000000e-01],\n",
       "       [  6.50000000e-01],\n",
       "       [  6.60000000e-01],\n",
       "       [  6.70000000e-01],\n",
       "       [  6.80000000e-01],\n",
       "       [  6.90000000e-01],\n",
       "       [  7.00000000e-01],\n",
       "       [  7.10000000e-01],\n",
       "       [  7.20000000e-01],\n",
       "       [  7.30000000e-01],\n",
       "       [  7.40000000e-01],\n",
       "       [  7.50000000e-01],\n",
       "       [  7.60000000e-01],\n",
       "       [  7.70000000e-01],\n",
       "       [  7.80000000e-01],\n",
       "       [  7.90000000e-01],\n",
       "       [  8.00000000e-01],\n",
       "       [  8.10000000e-01],\n",
       "       [  8.20000000e-01],\n",
       "       [  8.30000000e-01],\n",
       "       [  8.40000000e-01],\n",
       "       [  8.50000000e-01],\n",
       "       [  8.60000000e-01],\n",
       "       [  8.70000000e-01],\n",
       "       [  8.80000000e-01],\n",
       "       [  8.90000000e-01],\n",
       "       [  9.00000000e-01],\n",
       "       [  9.10000000e-01],\n",
       "       [  9.20000000e-01],\n",
       "       [  9.30000000e-01],\n",
       "       [  9.40000000e-01],\n",
       "       [  9.50000000e-01],\n",
       "       [  9.60000000e-01],\n",
       "       [  9.70000000e-01],\n",
       "       [  9.80000000e-01],\n",
       "       [  9.90000000e-01],\n",
       "       [  1.00000000e+00],\n",
       "       [  1.01000000e+00],\n",
       "       [  1.02000000e+00],\n",
       "       [  1.03000000e+00],\n",
       "       [  1.04000000e+00],\n",
       "       [  1.05000000e+00],\n",
       "       [  1.06000000e+00],\n",
       "       [  1.07000000e+00],\n",
       "       [  1.08000000e+00],\n",
       "       [  1.09000000e+00],\n",
       "       [  1.10000000e+00],\n",
       "       [  1.11000000e+00],\n",
       "       [  1.12000000e+00],\n",
       "       [  1.13000000e+00],\n",
       "       [  1.14000000e+00],\n",
       "       [  1.15000000e+00],\n",
       "       [  1.16000000e+00],\n",
       "       [  1.17000000e+00],\n",
       "       [  1.18000000e+00],\n",
       "       [  1.19000000e+00],\n",
       "       [  1.20000000e+00],\n",
       "       [  1.21000000e+00],\n",
       "       [  1.22000000e+00],\n",
       "       [  1.23000000e+00],\n",
       "       [  1.24000000e+00],\n",
       "       [  1.25000000e+00],\n",
       "       [  1.26000000e+00],\n",
       "       [  1.27000000e+00],\n",
       "       [  1.28000000e+00],\n",
       "       [  1.29000000e+00],\n",
       "       [  1.30000000e+00],\n",
       "       [  1.31000000e+00],\n",
       "       [  1.32000000e+00],\n",
       "       [  1.33000000e+00],\n",
       "       [  1.34000000e+00],\n",
       "       [  1.35000000e+00],\n",
       "       [  1.36000000e+00],\n",
       "       [  1.37000000e+00],\n",
       "       [  1.38000000e+00],\n",
       "       [  1.39000000e+00],\n",
       "       [  1.40000000e+00],\n",
       "       [  1.41000000e+00],\n",
       "       [  1.42000000e+00],\n",
       "       [  1.43000000e+00],\n",
       "       [  1.44000000e+00],\n",
       "       [  1.45000000e+00],\n",
       "       [  1.46000000e+00],\n",
       "       [  1.47000000e+00],\n",
       "       [  1.48000000e+00],\n",
       "       [  1.49000000e+00],\n",
       "       [  1.50000000e+00],\n",
       "       [  1.51000000e+00],\n",
       "       [  1.52000000e+00],\n",
       "       [  1.53000000e+00],\n",
       "       [  1.54000000e+00],\n",
       "       [  1.55000000e+00],\n",
       "       [  1.56000000e+00],\n",
       "       [  1.57000000e+00],\n",
       "       [  1.58000000e+00],\n",
       "       [  1.59000000e+00],\n",
       "       [  1.60000000e+00],\n",
       "       [  1.61000000e+00],\n",
       "       [  1.62000000e+00],\n",
       "       [  1.63000000e+00],\n",
       "       [  1.64000000e+00],\n",
       "       [  1.65000000e+00],\n",
       "       [  1.66000000e+00],\n",
       "       [  1.67000000e+00],\n",
       "       [  1.68000000e+00],\n",
       "       [  1.69000000e+00],\n",
       "       [  1.70000000e+00],\n",
       "       [  1.71000000e+00],\n",
       "       [  1.72000000e+00],\n",
       "       [  1.73000000e+00],\n",
       "       [  1.74000000e+00],\n",
       "       [  1.75000000e+00],\n",
       "       [  1.76000000e+00],\n",
       "       [  1.77000000e+00],\n",
       "       [  1.78000000e+00],\n",
       "       [  1.79000000e+00],\n",
       "       [  1.80000000e+00],\n",
       "       [  1.81000000e+00],\n",
       "       [  1.82000000e+00],\n",
       "       [  1.83000000e+00],\n",
       "       [  1.84000000e+00],\n",
       "       [  1.85000000e+00],\n",
       "       [  1.86000000e+00],\n",
       "       [  1.87000000e+00],\n",
       "       [  1.88000000e+00],\n",
       "       [  1.89000000e+00],\n",
       "       [  1.90000000e+00],\n",
       "       [  1.91000000e+00],\n",
       "       [  1.92000000e+00],\n",
       "       [  1.93000000e+00],\n",
       "       [  1.94000000e+00],\n",
       "       [  1.95000000e+00],\n",
       "       [  1.96000000e+00],\n",
       "       [  1.97000000e+00],\n",
       "       [  1.98000000e+00],\n",
       "       [  1.99000000e+00],\n",
       "       [  2.00000000e+00],\n",
       "       [  2.01000000e+00],\n",
       "       [  2.02000000e+00],\n",
       "       [  2.03000000e+00],\n",
       "       [  2.04000000e+00],\n",
       "       [  2.05000000e+00],\n",
       "       [  2.06000000e+00],\n",
       "       [  2.07000000e+00],\n",
       "       [  2.08000000e+00],\n",
       "       [  2.09000000e+00],\n",
       "       [  2.10000000e+00],\n",
       "       [  2.11000000e+00],\n",
       "       [  2.12000000e+00],\n",
       "       [  2.13000000e+00],\n",
       "       [  2.14000000e+00],\n",
       "       [  2.15000000e+00],\n",
       "       [  2.16000000e+00],\n",
       "       [  2.17000000e+00],\n",
       "       [  2.18000000e+00],\n",
       "       [  2.19000000e+00],\n",
       "       [  2.20000000e+00],\n",
       "       [  2.21000000e+00],\n",
       "       [  2.22000000e+00],\n",
       "       [  2.23000000e+00],\n",
       "       [  2.24000000e+00],\n",
       "       [  2.25000000e+00],\n",
       "       [  2.26000000e+00],\n",
       "       [  2.27000000e+00],\n",
       "       [  2.28000000e+00],\n",
       "       [  2.29000000e+00],\n",
       "       [  2.30000000e+00],\n",
       "       [  2.31000000e+00],\n",
       "       [  2.32000000e+00],\n",
       "       [  2.33000000e+00],\n",
       "       [  2.34000000e+00],\n",
       "       [  2.35000000e+00],\n",
       "       [  2.36000000e+00],\n",
       "       [  2.37000000e+00],\n",
       "       [  2.38000000e+00],\n",
       "       [  2.39000000e+00],\n",
       "       [  2.40000000e+00],\n",
       "       [  2.41000000e+00],\n",
       "       [  2.42000000e+00],\n",
       "       [  2.43000000e+00],\n",
       "       [  2.44000000e+00],\n",
       "       [  2.45000000e+00],\n",
       "       [  2.46000000e+00],\n",
       "       [  2.47000000e+00],\n",
       "       [  2.48000000e+00],\n",
       "       [  2.49000000e+00],\n",
       "       [  2.50000000e+00],\n",
       "       [  2.51000000e+00],\n",
       "       [  2.52000000e+00],\n",
       "       [  2.53000000e+00],\n",
       "       [  2.54000000e+00],\n",
       "       [  2.55000000e+00],\n",
       "       [  2.56000000e+00],\n",
       "       [  2.57000000e+00],\n",
       "       [  2.58000000e+00],\n",
       "       [  2.59000000e+00],\n",
       "       [  2.60000000e+00],\n",
       "       [  2.61000000e+00],\n",
       "       [  2.62000000e+00],\n",
       "       [  2.63000000e+00],\n",
       "       [  2.64000000e+00],\n",
       "       [  2.65000000e+00],\n",
       "       [  2.66000000e+00],\n",
       "       [  2.67000000e+00],\n",
       "       [  2.68000000e+00],\n",
       "       [  2.69000000e+00],\n",
       "       [  2.70000000e+00],\n",
       "       [  2.71000000e+00],\n",
       "       [  2.72000000e+00],\n",
       "       [  2.73000000e+00],\n",
       "       [  2.74000000e+00],\n",
       "       [  2.75000000e+00],\n",
       "       [  2.76000000e+00],\n",
       "       [  2.77000000e+00],\n",
       "       [  2.78000000e+00],\n",
       "       [  2.79000000e+00],\n",
       "       [  2.80000000e+00],\n",
       "       [  2.81000000e+00],\n",
       "       [  2.82000000e+00],\n",
       "       [  2.83000000e+00],\n",
       "       [  2.84000000e+00],\n",
       "       [  2.85000000e+00],\n",
       "       [  2.86000000e+00],\n",
       "       [  2.87000000e+00],\n",
       "       [  2.88000000e+00],\n",
       "       [  2.89000000e+00],\n",
       "       [  2.90000000e+00],\n",
       "       [  2.91000000e+00],\n",
       "       [  2.92000000e+00],\n",
       "       [  2.93000000e+00],\n",
       "       [  2.94000000e+00],\n",
       "       [  2.95000000e+00],\n",
       "       [  2.96000000e+00],\n",
       "       [  2.97000000e+00],\n",
       "       [  2.98000000e+00],\n",
       "       [  2.99000000e+00],\n",
       "       [  3.00000000e+00],\n",
       "       [  3.01000000e+00],\n",
       "       [  3.02000000e+00],\n",
       "       [  3.03000000e+00],\n",
       "       [  3.04000000e+00],\n",
       "       [  3.05000000e+00],\n",
       "       [  3.06000000e+00],\n",
       "       [  3.07000000e+00],\n",
       "       [  3.08000000e+00],\n",
       "       [  3.09000000e+00],\n",
       "       [  3.10000000e+00],\n",
       "       [  3.11000000e+00],\n",
       "       [  3.12000000e+00],\n",
       "       [  3.13000000e+00],\n",
       "       [  3.14000000e+00],\n",
       "       [  3.15000000e+00],\n",
       "       [  3.16000000e+00],\n",
       "       [  3.17000000e+00],\n",
       "       [  3.18000000e+00],\n",
       "       [  3.19000000e+00],\n",
       "       [  3.20000000e+00],\n",
       "       [  3.21000000e+00],\n",
       "       [  3.22000000e+00],\n",
       "       [  3.23000000e+00],\n",
       "       [  3.24000000e+00],\n",
       "       [  3.25000000e+00],\n",
       "       [  3.26000000e+00],\n",
       "       [  3.27000000e+00],\n",
       "       [  3.28000000e+00],\n",
       "       [  3.29000000e+00],\n",
       "       [  3.30000000e+00],\n",
       "       [  3.31000000e+00],\n",
       "       [  3.32000000e+00],\n",
       "       [  3.33000000e+00],\n",
       "       [  3.34000000e+00],\n",
       "       [  3.35000000e+00],\n",
       "       [  3.36000000e+00],\n",
       "       [  3.37000000e+00],\n",
       "       [  3.38000000e+00],\n",
       "       [  3.39000000e+00],\n",
       "       [  3.40000000e+00],\n",
       "       [  3.41000000e+00],\n",
       "       [  3.42000000e+00],\n",
       "       [  3.43000000e+00],\n",
       "       [  3.44000000e+00],\n",
       "       [  3.45000000e+00],\n",
       "       [  3.46000000e+00],\n",
       "       [  3.47000000e+00],\n",
       "       [  3.48000000e+00],\n",
       "       [  3.49000000e+00],\n",
       "       [  3.50000000e+00],\n",
       "       [  3.51000000e+00],\n",
       "       [  3.52000000e+00],\n",
       "       [  3.53000000e+00],\n",
       "       [  3.54000000e+00],\n",
       "       [  3.55000000e+00],\n",
       "       [  3.56000000e+00],\n",
       "       [  3.57000000e+00],\n",
       "       [  3.58000000e+00],\n",
       "       [  3.59000000e+00],\n",
       "       [  3.60000000e+00],\n",
       "       [  3.61000000e+00],\n",
       "       [  3.62000000e+00],\n",
       "       [  3.63000000e+00],\n",
       "       [  3.64000000e+00],\n",
       "       [  3.65000000e+00],\n",
       "       [  3.66000000e+00],\n",
       "       [  3.67000000e+00],\n",
       "       [  3.68000000e+00],\n",
       "       [  3.69000000e+00],\n",
       "       [  3.70000000e+00],\n",
       "       [  3.71000000e+00],\n",
       "       [  3.72000000e+00],\n",
       "       [  3.73000000e+00],\n",
       "       [  3.74000000e+00],\n",
       "       [  3.75000000e+00],\n",
       "       [  3.76000000e+00],\n",
       "       [  3.77000000e+00],\n",
       "       [  3.78000000e+00],\n",
       "       [  3.79000000e+00],\n",
       "       [  3.80000000e+00],\n",
       "       [  3.81000000e+00],\n",
       "       [  3.82000000e+00],\n",
       "       [  3.83000000e+00],\n",
       "       [  3.84000000e+00],\n",
       "       [  3.85000000e+00],\n",
       "       [  3.86000000e+00],\n",
       "       [  3.87000000e+00],\n",
       "       [  3.88000000e+00],\n",
       "       [  3.89000000e+00],\n",
       "       [  3.90000000e+00],\n",
       "       [  3.91000000e+00],\n",
       "       [  3.92000000e+00],\n",
       "       [  3.93000000e+00],\n",
       "       [  3.94000000e+00],\n",
       "       [  3.95000000e+00],\n",
       "       [  3.96000000e+00],\n",
       "       [  3.97000000e+00],\n",
       "       [  3.98000000e+00],\n",
       "       [  3.99000000e+00],\n",
       "       [  4.00000000e+00],\n",
       "       [  4.01000000e+00],\n",
       "       [  4.02000000e+00],\n",
       "       [  4.03000000e+00],\n",
       "       [  4.04000000e+00],\n",
       "       [  4.05000000e+00],\n",
       "       [  4.06000000e+00],\n",
       "       [  4.07000000e+00],\n",
       "       [  4.08000000e+00],\n",
       "       [  4.09000000e+00],\n",
       "       [  4.10000000e+00],\n",
       "       [  4.11000000e+00],\n",
       "       [  4.12000000e+00],\n",
       "       [  4.13000000e+00],\n",
       "       [  4.14000000e+00],\n",
       "       [  4.15000000e+00],\n",
       "       [  4.16000000e+00],\n",
       "       [  4.17000000e+00],\n",
       "       [  4.18000000e+00],\n",
       "       [  4.19000000e+00],\n",
       "       [  4.20000000e+00],\n",
       "       [  4.21000000e+00],\n",
       "       [  4.22000000e+00],\n",
       "       [  4.23000000e+00],\n",
       "       [  4.24000000e+00],\n",
       "       [  4.25000000e+00],\n",
       "       [  4.26000000e+00],\n",
       "       [  4.27000000e+00],\n",
       "       [  4.28000000e+00],\n",
       "       [  4.29000000e+00],\n",
       "       [  4.30000000e+00],\n",
       "       [  4.31000000e+00],\n",
       "       [  4.32000000e+00],\n",
       "       [  4.33000000e+00],\n",
       "       [  4.34000000e+00],\n",
       "       [  4.35000000e+00],\n",
       "       [  4.36000000e+00],\n",
       "       [  4.37000000e+00],\n",
       "       [  4.38000000e+00],\n",
       "       [  4.39000000e+00],\n",
       "       [  4.40000000e+00],\n",
       "       [  4.41000000e+00],\n",
       "       [  4.42000000e+00],\n",
       "       [  4.43000000e+00],\n",
       "       [  4.44000000e+00],\n",
       "       [  4.45000000e+00],\n",
       "       [  4.46000000e+00],\n",
       "       [  4.47000000e+00],\n",
       "       [  4.48000000e+00],\n",
       "       [  4.49000000e+00],\n",
       "       [  4.50000000e+00],\n",
       "       [  4.51000000e+00],\n",
       "       [  4.52000000e+00],\n",
       "       [  4.53000000e+00],\n",
       "       [  4.54000000e+00],\n",
       "       [  4.55000000e+00],\n",
       "       [  4.56000000e+00],\n",
       "       [  4.57000000e+00],\n",
       "       [  4.58000000e+00],\n",
       "       [  4.59000000e+00],\n",
       "       [  4.60000000e+00],\n",
       "       [  4.61000000e+00],\n",
       "       [  4.62000000e+00],\n",
       "       [  4.63000000e+00],\n",
       "       [  4.64000000e+00],\n",
       "       [  4.65000000e+00],\n",
       "       [  4.66000000e+00],\n",
       "       [  4.67000000e+00],\n",
       "       [  4.68000000e+00],\n",
       "       [  4.69000000e+00],\n",
       "       [  4.70000000e+00],\n",
       "       [  4.71000000e+00],\n",
       "       [  4.72000000e+00],\n",
       "       [  4.73000000e+00],\n",
       "       [  4.74000000e+00],\n",
       "       [  4.75000000e+00],\n",
       "       [  4.76000000e+00],\n",
       "       [  4.77000000e+00],\n",
       "       [  4.78000000e+00],\n",
       "       [  4.79000000e+00],\n",
       "       [  4.80000000e+00],\n",
       "       [  4.81000000e+00],\n",
       "       [  4.82000000e+00],\n",
       "       [  4.83000000e+00],\n",
       "       [  4.84000000e+00],\n",
       "       [  4.85000000e+00],\n",
       "       [  4.86000000e+00],\n",
       "       [  4.87000000e+00],\n",
       "       [  4.88000000e+00],\n",
       "       [  4.89000000e+00],\n",
       "       [  4.90000000e+00],\n",
       "       [  4.91000000e+00],\n",
       "       [  4.92000000e+00],\n",
       "       [  4.93000000e+00],\n",
       "       [  4.94000000e+00],\n",
       "       [  4.95000000e+00],\n",
       "       [  4.96000000e+00],\n",
       "       [  4.97000000e+00],\n",
       "       [  4.98000000e+00],\n",
       "       [  4.99000000e+00]])"
      ]
     },
     "execution_count": 76,
     "metadata": {},
     "output_type": "execute_result"
    }
   ],
   "source": [
    "x, y = np.meshgrid(points, points, sparse = True)\n",
    "((x-np.average(x))-(y-np.average(y))).T\n",
    "x\n",
    "y"
   ]
  },
  {
   "cell_type": "code",
   "execution_count": 73,
   "metadata": {
    "collapsed": false
   },
   "outputs": [
    {
     "data": {
      "text/plain": [
       "array([[  1.10000000e-02,   1.10005500e-02,   1.10022002e-02, ...,\n",
       "          4.22691844e+19,   4.67029961e+19,   5.16070515e+19],\n",
       "       [  1.10005500e-02,   1.10000000e-02,   1.10005500e-02, ...,\n",
       "          3.82601284e+19,   4.22691844e+19,   4.67029961e+19],\n",
       "       [  1.10022002e-02,   1.10005500e-02,   1.10000000e-02, ...,\n",
       "          3.46347779e+19,   3.82601284e+19,   4.22691844e+19],\n",
       "       ..., \n",
       "       [  4.22691844e+19,   3.82601284e+19,   3.46347779e+19, ...,\n",
       "          1.10000000e-02,   1.10005500e-02,   1.10022002e-02],\n",
       "       [  4.67029961e+19,   4.22691844e+19,   3.82601284e+19, ...,\n",
       "          1.10005500e-02,   1.10000000e-02,   1.10005500e-02],\n",
       "       [  5.16070515e+19,   4.67029961e+19,   4.22691844e+19, ...,\n",
       "          1.10022002e-02,   1.10005500e-02,   1.10000000e-02]])"
      ]
     },
     "execution_count": 73,
     "metadata": {},
     "output_type": "execute_result"
    },
    {
     "data": {
      "image/png": "[encoded data removed]",
      "text/plain": [
       "<matplotlib.figure.Figure at 0x1216dd518>"
      ]
     },
     "metadata": {},
     "output_type": "display_data"
    }
   ],
   "source": [
    "import math\n",
    "points = np.arange(-5,5,0.01) # create 1000 points\n",
    "x, y = np.meshgrid(points, points) #\n",
    "z = .011 * np.exp(-.5 * ((x-np.average(x))-(y-np.average(y))).T * 1 * ((x-np.average(x))-(y-np.average(y))))\n",
    "import matplotlib.pyplot as plt\n",
    "\n",
    "%matplotlib inline\n",
    "\n",
    "plt.imshow(z,cmap = plt.cm.gray); plt.colorbar()\n",
    "\n",
    "plt.title(\"Image of $\\sqrt{x^2 + y^2}$\")\n",
    "z"
   ]
  },
  {
   "cell_type": "code",
   "execution_count": 18,
   "metadata": {
    "collapsed": false
   },
   "outputs": [
    {
     "data": {
      "text/plain": [
       "array([[ 0.,  0.,  0.],\n",
       "       [ 1.,  1.,  1.]])"
      ]
     },
     "execution_count": 18,
     "metadata": {},
     "output_type": "execute_result"
    }
   ],
   "source": [
    "nx, ny = (3, 2)\n",
    "x = np.linspace(0, 1, nx)\n",
    "y = np.linspace(0, 1, ny)\n",
    "xv, yv = np.meshgrid(x, y)\n",
    "xv\n",
    "yv"
   ]
  },
  {
   "cell_type": "code",
   "execution_count": 9,
   "metadata": {
    "collapsed": false
   },
   "outputs": [
    {
     "data": {
      "text/plain": [
       "<matplotlib.text.Text at 0x11837fef0>"
      ]
     },
     "execution_count": 9,
     "metadata": {},
     "output_type": "execute_result"
    },
    {
     "data": {
      "image/png": "[encoded data removed]",
      "text/plain": [
       "<matplotlib.figure.Figure at 0x1105842b0>"
      ]
     },
     "metadata": {},
     "output_type": "display_data"
    }
   ],
   "source": [
    "# Do this again for manhattan or absolute distance\n",
    "\n",
    "z = np.abs(x+y)\n",
    "\n",
    "#import matplotlib.pyplot as plt\n",
    "\n",
    "%matplotlib inline\n",
    "\n",
    "plt.imshow(z,cmap = plt.cm.gray); plt.colorbar()\n",
    "\n",
    "plt.title(\"Image of $|x+y|$\")\n"
   ]
  },
  {
   "cell_type": "code",
   "execution_count": 165,
   "metadata": {
    "collapsed": false
   },
   "outputs": [
    {
     "data": {
      "text/plain": [
       "array([1, 1, 2, 2, 9])"
      ]
     },
     "execution_count": 165,
     "metadata": {},
     "output_type": "execute_result"
    }
   ],
   "source": [
    "# Conditional logic selection\n",
    "# using np.where\n",
    "\n",
    "x = np.array([1,4,2,3,6])\n",
    "\n",
    "y = np.array([3,1,7,2,9])\n",
    "\n",
    "cond = np.array([True, False, True, False, False])\n",
    "\n",
    "np.where(cond, x, y)\n",
    "\n"
   ]
  },
  {
   "cell_type": "code",
   "execution_count": 166,
   "metadata": {
    "collapsed": false
   },
   "outputs": [
    {
     "data": {
      "text/plain": [
       "array([1, 1, 2, 2, 6])"
      ]
     },
     "execution_count": 166,
     "metadata": {},
     "output_type": "execute_result"
    }
   ],
   "source": [
    "# Select with np.where to create an array of minimum values\n",
    "\n",
    "x = np.array([1,4,2,3,6])\n",
    "\n",
    "y = np.array([3,1,2,2,9])\n",
    "\n",
    "np.where(x<y, x, y)"
   ]
  },
  {
   "cell_type": "code",
   "execution_count": 79,
   "metadata": {
    "collapsed": false
   },
   "outputs": [],
   "source": [
    "# For the previous meshgrid points, \n",
    "# produce the image plot of the max distance\n",
    "\n",
    "\n"
   ]
  },
  {
   "cell_type": "code",
   "execution_count": 167,
   "metadata": {
    "collapsed": false
   },
   "outputs": [
    {
     "data": {
      "text/plain": [
       "array([[ 1.47, -0.48, -0.66,  0.57],\n",
       "       [ 1.02,  1.04, -1.09, -1.36],\n",
       "       [-0.5 , -1.19,  0.71,  0.66],\n",
       "       [ 0.48, -1.01, -0.18,  0.57],\n",
       "       [-0.91, -1.68,  0.67,  0.06]])"
      ]
     },
     "execution_count": 167,
     "metadata": {},
     "output_type": "execute_result"
    }
   ],
   "source": [
    "# Example 2d array\n",
    "\n",
    "myarray = np.round(np.random.randn(5,4),2)\n",
    "\n",
    "myarray\n"
   ]
  },
  {
   "cell_type": "code",
   "execution_count": 168,
   "metadata": {
    "collapsed": false
   },
   "outputs": [
    {
     "data": {
      "text/plain": [
       "array([[ 1.47,  0.  ,  0.  ,  0.57],\n",
       "       [ 1.02,  1.04,  0.  ,  0.  ],\n",
       "       [ 0.  ,  0.  ,  0.71,  0.66],\n",
       "       [ 0.48,  0.  ,  0.  ,  0.57],\n",
       "       [ 0.  ,  0.  ,  0.67,  0.06]])"
      ]
     },
     "execution_count": 168,
     "metadata": {},
     "output_type": "execute_result"
    }
   ],
   "source": [
    "# Create a new array replacing negative values with 0\n",
    "\n",
    "np.where(myarray<0,0,myarray)"
   ]
  },
  {
   "cell_type": "code",
   "execution_count": 179,
   "metadata": {
    "collapsed": false
   },
   "outputs": [
    {
     "data": {
      "text/plain": [
       "array([[ 0.  , -0.48, -0.66,  0.57],\n",
       "       [ 0.  ,  0.  ,  0.  ,  0.  ],\n",
       "       [-0.5 ,  0.  ,  0.71,  0.66],\n",
       "       [ 0.48,  0.  , -0.18,  0.57],\n",
       "       [-0.91,  0.  ,  0.67,  0.06]])"
      ]
     },
     "execution_count": 179,
     "metadata": {},
     "output_type": "execute_result"
    }
   ],
   "source": [
    "# Nested use of where\n",
    "\n",
    "# Example: convert the matix array to [-1,1]\n",
    "\n",
    "np.where(myarray<1,np.where(myarray>-1,myarray,0),0)\n"
   ]
  },
  {
   "cell_type": "markdown",
   "metadata": {},
   "source": [
    "__Mathematical and Statistical Methods__"
   ]
  },
  {
   "cell_type": "code",
   "execution_count": 83,
   "metadata": {
    "collapsed": false
   },
   "outputs": [],
   "source": [
    "# Basic statistics\n",
    "\n",
    "# mean\n",
    "\n"
   ]
  },
  {
   "cell_type": "code",
   "execution_count": 84,
   "metadata": {
    "collapsed": false
   },
   "outputs": [],
   "source": [
    "# sum\n",
    "\n"
   ]
  },
  {
   "cell_type": "code",
   "execution_count": 85,
   "metadata": {
    "collapsed": false
   },
   "outputs": [],
   "source": [
    "# mean by axis 1\n",
    "\n"
   ]
  },
  {
   "cell_type": "code",
   "execution_count": 86,
   "metadata": {
    "collapsed": false
   },
   "outputs": [],
   "source": [
    "# mean by axis 0"
   ]
  },
  {
   "cell_type": "code",
   "execution_count": 87,
   "metadata": {
    "collapsed": false
   },
   "outputs": [],
   "source": [
    "# cumsum axis 0\n",
    "\n"
   ]
  },
  {
   "cell_type": "code",
   "execution_count": 88,
   "metadata": {
    "collapsed": false
   },
   "outputs": [],
   "source": [
    "# Find the minimums in each column\n",
    "\n"
   ]
  },
  {
   "cell_type": "code",
   "execution_count": 47,
   "metadata": {
    "collapsed": false
   },
   "outputs": [
    {
     "data": {
      "text/plain": [
       "9"
      ]
     },
     "execution_count": 47,
     "metadata": {},
     "output_type": "execute_result"
    }
   ],
   "source": [
    "# Boolean values treated as 0, 1 in math methods\n",
    "\n",
    "# find the number of negative values in the matrix, myarray\n",
    "\n"
   ]
  },
  {
   "cell_type": "code",
   "execution_count": 89,
   "metadata": {
    "collapsed": false
   },
   "outputs": [],
   "source": [
    "# any and all: useful functions for boolean values\n",
    "\n",
    "# Determine if we have any negative values in row 3 of myarray\n",
    "\n"
   ]
  },
  {
   "cell_type": "code",
   "execution_count": 3,
   "metadata": {
    "collapsed": false
   },
   "outputs": [
    {
     "data": {
      "text/plain": [
       "array([[ 0.25316487,  0.46599034, -0.83987451,  0.7424242 ],\n",
       "       [ 0.10063367, -1.5438491 ,  1.31846934,  1.55412005],\n",
       "       [-0.22398992,  1.27421014,  0.64954026,  0.78620003],\n",
       "       [ 0.46191971, -0.94604634,  0.59603283,  1.20732137],\n",
       "       [ 0.52319119, -1.90404627, -2.94813985,  0.85944994]])"
      ]
     },
     "execution_count": 3,
     "metadata": {},
     "output_type": "execute_result"
    }
   ],
   "source": [
    "# Sorting - \n",
    "\n",
    "myarray = np.random.randn(5,4)\n",
    "\n",
    "myarray"
   ]
  },
  {
   "cell_type": "code",
   "execution_count": 10,
   "metadata": {
    "collapsed": false
   },
   "outputs": [
    {
     "data": {
      "text/plain": [
       "array([[-2.94813985, -1.90404627, -0.22398992,  0.7424242 ],\n",
       "       [-1.5438491 , -0.83987451,  0.10063367,  0.78620003],\n",
       "       [-0.94604634,  0.25316487,  0.59603283,  0.85944994],\n",
       "       [ 0.46191971,  0.46599034,  0.64954026,  1.20732137],\n",
       "       [ 0.52319119,  1.27421014,  1.31846934,  1.55412005]])"
      ]
     },
     "execution_count": 10,
     "metadata": {},
     "output_type": "execute_result"
    }
   ],
   "source": [
    "# sorting along the rows (axis 0)\n",
    "myarray.sort(0)\n",
    "myarray"
   ]
  },
  {
   "cell_type": "code",
   "execution_count": 14,
   "metadata": {
    "collapsed": false
   },
   "outputs": [
    {
     "data": {
      "text/plain": [
       "array([[-1.60208801,  0.33378343,  1.91311683, -0.05025199],\n",
       "       [ 1.06138602, -0.77201102,  0.56464056,  0.32961036],\n",
       "       [-1.16711335, -0.18062074, -1.10235185,  0.92750118],\n",
       "       [ 0.10643315,  0.7840417 ,  0.06174874, -0.24810024],\n",
       "       [ 1.32700399, -1.23842377, -0.31892203, -0.91820521]])"
      ]
     },
     "execution_count": 14,
     "metadata": {},
     "output_type": "execute_result"
    }
   ],
   "source": [
    "# Sort without altering the array\n",
    "\n",
    "myarray = np.random.randn(5,4)\n",
    "\n",
    "myarray"
   ]
  },
  {
   "cell_type": "code",
   "execution_count": 21,
   "metadata": {
    "collapsed": false
   },
   "outputs": [
    {
     "data": {
      "text/plain": [
       "array([[-1.60208801, -0.05025199,  0.33378343,  1.91311683],\n",
       "       [-0.77201102,  0.32961036,  0.56464056,  1.06138602],\n",
       "       [-1.16711335, -1.10235185, -0.18062074,  0.92750118],\n",
       "       [-0.24810024,  0.06174874,  0.10643315,  0.7840417 ],\n",
       "       [-1.23842377, -0.91820521, -0.31892203,  1.32700399]])"
      ]
     },
     "execution_count": 21,
     "metadata": {},
     "output_type": "execute_result"
    }
   ],
   "source": [
    "# Sort without altering the array\n",
    "\n",
    "np.sort(myarray,1)"
   ]
  },
  {
   "cell_type": "code",
   "execution_count": 94,
   "metadata": {
    "collapsed": false
   },
   "outputs": [],
   "source": [
    "myarray"
   ]
  },
  {
   "cell_type": "code",
   "execution_count": 24,
   "metadata": {
    "collapsed": false
   },
   "outputs": [
    {
     "data": {
      "text/plain": [
       "array(['A', 'D'], \n",
       "      dtype='<U1')"
      ]
     },
     "execution_count": 24,
     "metadata": {},
     "output_type": "execute_result"
    }
   ],
   "source": [
    "#Obtain the intersection between arrays\n",
    "\n",
    "x = np.array(['A', 'B', 'A', 'D', 'B'])\n",
    "\n",
    "y = np.array(['A', 'C', 'C', 'H', 'D'])\n",
    "\n",
    "np.intersect1d(x,y)"
   ]
  },
  {
   "cell_type": "code",
   "execution_count": 25,
   "metadata": {
    "collapsed": false
   },
   "outputs": [
    {
     "data": {
      "text/plain": [
       "array(['A', 'B', 'D'], \n",
       "      dtype='<U1')"
      ]
     },
     "execution_count": 25,
     "metadata": {},
     "output_type": "execute_result"
    }
   ],
   "source": [
    "# Find the unique entries of x and y\n",
    "\n",
    "np.unique(x)"
   ]
  },
  {
   "cell_type": "code",
   "execution_count": 28,
   "metadata": {
    "collapsed": false
   },
   "outputs": [
    {
     "data": {
      "text/plain": [
       "array([[32,  8],\n",
       "       [74, 16]])"
      ]
     },
     "execution_count": 28,
     "metadata": {},
     "output_type": "execute_result"
    }
   ],
   "source": [
    "# Dot products\n",
    "\n",
    "x = np.array([[1,2,1],[3,5,1]])\n",
    "\n",
    "y = np.array([[9,1],[8,2],[7,3]])\n",
    "\n",
    "x.dot(y)\n",
    "\n",
    "\n"
   ]
  },
  {
   "cell_type": "code",
   "execution_count": 30,
   "metadata": {
    "collapsed": false
   },
   "outputs": [
    {
     "data": {
      "text/plain": [
       "(array([ 5.95606457, -0.47118528]),\n",
       " array([ 1.49473213]),\n",
       " 2,\n",
       " array([ 141.55421703,    7.73974431]))"
      ]
     },
     "execution_count": 30,
     "metadata": {},
     "output_type": "execute_result"
    }
   ],
   "source": [
    "# Find the least squares solution to the following\n",
    "\n",
    "from numpy import linalg as LA\n",
    "\n",
    "x1 = np.arange(1,11, .5)\n",
    "\n",
    "\n",
    "x2 = np.arange(21,41)\n",
    "\n",
    "\n",
    "e = np.random.rand(20)\n",
    "\n",
    "X = np.array([x1,x2])\n",
    "\n",
    "y = 6*x1 - .5*x2 + e\n",
    "\n",
    "LA.lstsq(X.T,y)\n",
    "\n"
   ]
  },
  {
   "cell_type": "code",
   "execution_count": 99,
   "metadata": {
    "collapsed": false
   },
   "outputs": [],
   "source": [
    "# Generate a 2d Gaussian plot\n",
    "\n",
    "\n"
   ]
  }
 ],
 "metadata": {
  "anaconda-cloud": {},
  "kernelspec": {
   "display_name": "Python [conda root]",
   "language": "python",
   "name": "conda-root-py"
  },
  "language_info": {
   "codemirror_mode": {
    "name": "ipython",
    "version": 3
   },
   "file_extension": ".py",
   "mimetype": "text/x-python",
   "name": "python",
   "nbconvert_exporter": "python",
   "pygments_lexer": "ipython3",
   "version": "3.5.2"
  }
 },
 "nbformat": 4,
 "nbformat_minor": 1
}
