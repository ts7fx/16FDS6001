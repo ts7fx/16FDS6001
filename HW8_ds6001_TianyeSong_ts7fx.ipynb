{
 "cells": [
  {
   "cell_type": "code",
   "execution_count": 12,
   "metadata": {
    "collapsed": false
   },
   "outputs": [
    {
     "name": "stderr",
     "output_type": "stream",
     "text": [
      "/Users/ChineseSamurai/anaconda/lib/python3.5/site-packages/IPython/core/interactiveshell.py:2881: DtypeWarning: Columns (38,130,131,132,133,134,135,136) have mixed types. Specify dtype option on import or set low_memory=False.\n",
      "  exec(code_obj, self.user_global_ns, self.user_ns)\n",
      "/Users/ChineseSamurai/anaconda/lib/python3.5/site-packages/IPython/core/interactiveshell.py:2881: DtypeWarning: Columns (120) have mixed types. Specify dtype option on import or set low_memory=False.\n",
      "  exec(code_obj, self.user_global_ns, self.user_ns)\n",
      "/Users/ChineseSamurai/anaconda/lib/python3.5/site-packages/IPython/core/interactiveshell.py:2881: DtypeWarning: Columns (38,42,120,126,127,128,129,130,131,132,133,134,135,136) have mixed types. Specify dtype option on import or set low_memory=False.\n",
      "  exec(code_obj, self.user_global_ns, self.user_ns)\n"
     ]
    },
    {
     "name": "stdout",
     "output_type": "stream",
     "text": [
      "<class 'list'>\n"
     ]
    },
    {
     "data": {
      "text/html": [
       "<div>\n",
       "<table border=\"1\" class=\"dataframe\">\n",
       "  <thead>\n",
       "    <tr style=\"text-align: right;\">\n",
       "      <th></th>\n",
       "      <th>ACCAUSE</th>\n",
       "      <th>ACCDMG</th>\n",
       "      <th>ACCTRK</th>\n",
       "      <th>ACCTRKCL</th>\n",
       "      <th>ADJUNCT1</th>\n",
       "      <th>ADJUNCT2</th>\n",
       "      <th>ADJUNCT3</th>\n",
       "      <th>ALCOHOL</th>\n",
       "      <th>AMPM</th>\n",
       "      <th>AMTRAK</th>\n",
       "      <th>...</th>\n",
       "      <th>VISIBLTY</th>\n",
       "      <th>WEATHER</th>\n",
       "      <th>YEAR</th>\n",
       "      <th>YEAR4</th>\n",
       "      <th>adjunct1</th>\n",
       "      <th>adjunct2</th>\n",
       "      <th>adjunct3</th>\n",
       "      <th>mopera</th>\n",
       "      <th>signal</th>\n",
       "      <th>subdiv</th>\n",
       "    </tr>\n",
       "  </thead>\n",
       "  <tbody>\n",
       "    <tr>\n",
       "      <th>0</th>\n",
       "      <td>T108</td>\n",
       "      <td>7400.0</td>\n",
       "      <td>2.0</td>\n",
       "      <td>1</td>\n",
       "      <td>NaN</td>\n",
       "      <td>NaN</td>\n",
       "      <td>NaN</td>\n",
       "      <td>NaN</td>\n",
       "      <td>AM</td>\n",
       "      <td>K</td>\n",
       "      <td>...</td>\n",
       "      <td>2</td>\n",
       "      <td>1</td>\n",
       "      <td>1</td>\n",
       "      <td>2001</td>\n",
       "      <td>NaN</td>\n",
       "      <td>NaN</td>\n",
       "      <td>NaN</td>\n",
       "      <td>NaN</td>\n",
       "      <td>NaN</td>\n",
       "      <td>NaN</td>\n",
       "    </tr>\n",
       "    <tr>\n",
       "      <th>1</th>\n",
       "      <td>E79L</td>\n",
       "      <td>25000.0</td>\n",
       "      <td>2.0</td>\n",
       "      <td>1</td>\n",
       "      <td>NaN</td>\n",
       "      <td>NaN</td>\n",
       "      <td>NaN</td>\n",
       "      <td>NaN</td>\n",
       "      <td>AM</td>\n",
       "      <td>C</td>\n",
       "      <td>...</td>\n",
       "      <td>4</td>\n",
       "      <td>1</td>\n",
       "      <td>1</td>\n",
       "      <td>2001</td>\n",
       "      <td>NaN</td>\n",
       "      <td>NaN</td>\n",
       "      <td>NaN</td>\n",
       "      <td>NaN</td>\n",
       "      <td>NaN</td>\n",
       "      <td>NaN</td>\n",
       "    </tr>\n",
       "    <tr>\n",
       "      <th>2</th>\n",
       "      <td>E79L</td>\n",
       "      <td>8000.0</td>\n",
       "      <td>1.0</td>\n",
       "      <td>1</td>\n",
       "      <td>NaN</td>\n",
       "      <td>NaN</td>\n",
       "      <td>NaN</td>\n",
       "      <td>NaN</td>\n",
       "      <td>PM</td>\n",
       "      <td>K</td>\n",
       "      <td>...</td>\n",
       "      <td>2</td>\n",
       "      <td>2</td>\n",
       "      <td>1</td>\n",
       "      <td>2001</td>\n",
       "      <td>NaN</td>\n",
       "      <td>NaN</td>\n",
       "      <td>NaN</td>\n",
       "      <td>NaN</td>\n",
       "      <td>NaN</td>\n",
       "      <td>NaN</td>\n",
       "    </tr>\n",
       "    <tr>\n",
       "      <th>3</th>\n",
       "      <td>H303</td>\n",
       "      <td>10000.0</td>\n",
       "      <td>2.0</td>\n",
       "      <td>1</td>\n",
       "      <td>NaN</td>\n",
       "      <td>NaN</td>\n",
       "      <td>NaN</td>\n",
       "      <td>0.0</td>\n",
       "      <td>AM</td>\n",
       "      <td>C</td>\n",
       "      <td>...</td>\n",
       "      <td>4</td>\n",
       "      <td>2</td>\n",
       "      <td>1</td>\n",
       "      <td>2001</td>\n",
       "      <td>NaN</td>\n",
       "      <td>NaN</td>\n",
       "      <td>NaN</td>\n",
       "      <td>NaN</td>\n",
       "      <td>NaN</td>\n",
       "      <td>NaN</td>\n",
       "    </tr>\n",
       "    <tr>\n",
       "      <th>4</th>\n",
       "      <td>M404</td>\n",
       "      <td>15972.0</td>\n",
       "      <td>1.0</td>\n",
       "      <td>3</td>\n",
       "      <td>NaN</td>\n",
       "      <td>NaN</td>\n",
       "      <td>NaN</td>\n",
       "      <td>NaN</td>\n",
       "      <td>PM</td>\n",
       "      <td>K</td>\n",
       "      <td>...</td>\n",
       "      <td>4</td>\n",
       "      <td>3</td>\n",
       "      <td>1</td>\n",
       "      <td>2001</td>\n",
       "      <td>NaN</td>\n",
       "      <td>NaN</td>\n",
       "      <td>NaN</td>\n",
       "      <td>NaN</td>\n",
       "      <td>NaN</td>\n",
       "      <td>NaN</td>\n",
       "    </tr>\n",
       "  </tbody>\n",
       "</table>\n",
       "<p>5 rows × 153 columns</p>\n",
       "</div>"
      ],
      "text/plain": [
       "  ACCAUSE   ACCDMG  ACCTRK ACCTRKCL ADJUNCT1 ADJUNCT2 ADJUNCT3  ALCOHOL AMPM  \\\n",
       "0    T108   7400.0     2.0        1      NaN      NaN      NaN      NaN   AM   \n",
       "1    E79L  25000.0     2.0        1      NaN      NaN      NaN      NaN   AM   \n",
       "2    E79L   8000.0     1.0        1      NaN      NaN      NaN      NaN   PM   \n",
       "3    H303  10000.0     2.0        1      NaN      NaN      NaN      0.0   AM   \n",
       "4    M404  15972.0     1.0        3      NaN      NaN      NaN      NaN   PM   \n",
       "\n",
       "  AMTRAK   ...   VISIBLTY  WEATHER  YEAR YEAR4  adjunct1  adjunct2  adjunct3  \\\n",
       "0      K   ...          2        1     1  2001       NaN       NaN       NaN   \n",
       "1      C   ...          4        1     1  2001       NaN       NaN       NaN   \n",
       "2      K   ...          2        2     1  2001       NaN       NaN       NaN   \n",
       "3      C   ...          4        2     1  2001       NaN       NaN       NaN   \n",
       "4      K   ...          4        3     1  2001       NaN       NaN       NaN   \n",
       "\n",
       "   mopera  signal  subdiv  \n",
       "0     NaN     NaN     NaN  \n",
       "1     NaN     NaN     NaN  \n",
       "2     NaN     NaN     NaN  \n",
       "3     NaN     NaN     NaN  \n",
       "4     NaN     NaN     NaN  \n",
       "\n",
       "[5 rows x 153 columns]"
      ]
     },
     "execution_count": 12,
     "metadata": {},
     "output_type": "execute_result"
    }
   ],
   "source": [
    "# import statements\n",
    "import matplotlib.pyplot as plt\n",
    "from collections import Counter\n",
    "import pandas as pd\n",
    "import numpy as np\n",
    "import glob\n",
    "%matplotlib inline\n",
    "# read all txt files in a directory\n",
    "def readDF(path):\n",
    "    l = [pd.read_csv(filename, encoding = \"ISO-8859-1\") for filename in glob.glob(path)]\n",
    "    print(type(l))\n",
    "    df = pd.concat(l, axis=0)\n",
    "    return df\n",
    "\n",
    "# test to see if the function does the job\n",
    "dirpath = \"/Users/ChineseSamurai/Documents/train_data/*.txt\"\n",
    "df = readDF(dirpath)\n",
    "df.head(5)\n",
    "# yes it does."
   ]
  },
  {
   "cell_type": "code",
   "execution_count": 55,
   "metadata": {
    "collapsed": false
   },
   "outputs": [],
   "source": [
    "# writing out the dataframe to a csv file.\n",
    "df=df.reset_index()\n",
    "del df['level_0']\n",
    "del df['index']\n",
    "df.to_csv('/Users/ChineseSamurai/Documents/train_data.csv')"
   ]
  },
  {
   "cell_type": "code",
   "execution_count": 96,
   "metadata": {
    "collapsed": false
   },
   "outputs": [
    {
     "name": "stdout",
     "output_type": "stream",
     "text": [
      "TRAIN NO.#3 WITH DIESELS 85/15/87/44 AND 27 CARS STRUCK A SEMI-TRACTOR TRAILER TRUCK AT MP344.78, MAIN ST CROSSING CAUSING DAMAGE TO DIESEL UNIT NO.#85.\n",
      "ENGINE 286 CAUGHT FIRE AT THE SPRINGFIELD, MA STATION DUE TO BEARINGS IN MAIN GENERATOR LET GO.\n",
      "A VEHICLE BEING PARKED NEXT TO THE RIGHT OF WAY, ROLLED DOWN AN EMBANKMENT.  THE VEHICLE CAME TO A STOP NEXT TO THE WEST RAIL OF TRACK #2 FOULING SAME.  TRAIN #2696 WAS OPERATING SOUTH ON TRACK #3 ANDSTRUCK THE REAR OF THE VEHICLE.\n"
     ]
    }
   ],
   "source": [
    "# initiate a list to store narratives for each accident\n",
    "narrs = []\n",
    "for i in range(len(df['NARR1'])):\n",
    "    narrative = ''\n",
    "    # loop through all narratives\n",
    "    for j in range(1,16):\n",
    "        narr_name = 'NARR' + str(j)\n",
    "        # concatenate all narratives one by one\n",
    "        # omit missing values\n",
    "        if(pd.isnull(df.ix[i,narr_name]) != True):\n",
    "            narrative = narrative + str(df.ix[i,narr_name])\n",
    "    # then add to the list of narratives\n",
    "    narrs.append(narrative)\n",
    "# the list should now contain concatenated narrative data for every accident.\n",
    "print(narrs[100])\n",
    "print(narrs[1])\n",
    "print(narrs[9999])"
   ]
  },
  {
   "cell_type": "code",
   "execution_count": 4,
   "metadata": {
    "collapsed": true
   },
   "outputs": [],
   "source": [
    "# Provide summary statistics and visualizations for the major predictor and \n",
    "# response variables. Comment on what your observe in the data.\n",
    "\n",
    "# 4 predictors\n",
    "# type: type of accident\n",
    "# trnspd: speed of train in miles per hour\n",
    "# loaded1: car loaded or not (first involved): \n",
    "# loaded2: car loaded or not (causing):\n",
    "\n",
    "# 2 responses\n",
    "# casinj + caskld: total casualties for all RR involved\n",
    "# eqpdmg: reportable equipment damage in $ "
   ]
  },
  {
   "cell_type": "code",
   "execution_count": 18,
   "metadata": {
    "collapsed": false
   },
   "outputs": [
    {
     "data": {
      "text/plain": [
       "Counter({'RR Grade Crossing': 6,\n",
       "         'broken train collision': 104,\n",
       "         'derailment': 28370,\n",
       "         'explosive–detonation': 15,\n",
       "         'fire / violent rupture': 393,\n",
       "         'head on collision': 235,\n",
       "         'hwy-rail crossing': 3382,\n",
       "         'obstruction': 1094,\n",
       "         'other (described in narrative)': 2142,\n",
       "         'other impacts': 6462,\n",
       "         'raking collision': 1090,\n",
       "         'rearend collision': 587,\n",
       "         'side collision': 3003})"
      ]
     },
     "execution_count": 18,
     "metadata": {},
     "output_type": "execute_result"
    }
   ],
   "source": [
    "# 'type'\n",
    "map_type = {1:'derailment', 2:'head on collision', 3:'rearend collision', 4:'side collision', \n",
    "             5:'raking collision',6:'broken train collision', 7:'hwy-rail crossing', 8:'RR Grade Crossing', \n",
    "             9:'obstruction', 10:'explosive–detonation', 11: 'fire / violent rupture', 12: 'other impacts',\n",
    "             13 : 'other (described in narrative)'\n",
    "}\n",
    "df['TYPE'] = df['TYPE'].map(map_type)\n",
    "Counter(df['TYPE'])"
   ]
  },
  {
   "cell_type": "code",
   "execution_count": null,
   "metadata": {
    "collapsed": false
   },
   "outputs": [],
   "source": [
    "# 'trnspd'\n",
    "df.TRNSPD.plot(kind = 'hist')\n",
    "# very much right skewed."
   ]
  },
  {
   "cell_type": "code",
   "execution_count": 2,
   "metadata": {
    "collapsed": false
   },
   "outputs": [
    {
     "data": {
      "text/plain": [
       "Counter({nan: 8373, 'N': 16269, 'Y': 22241})"
      ]
     },
     "execution_count": 2,
     "metadata": {},
     "output_type": "execute_result"
    }
   ],
   "source": [
    "# 'loaded 1'\n",
    "Counter(df['LOADED1'])"
   ]
  },
  {
   "cell_type": "code",
   "execution_count": 3,
   "metadata": {
    "collapsed": false
   },
   "outputs": [
    {
     "data": {
      "text/plain": [
       "Counter({nan: 42719, 'N': 1466, 'Y': 2698})"
      ]
     },
     "execution_count": 3,
     "metadata": {},
     "output_type": "execute_result"
    }
   ],
   "source": [
    "# 'loaded 2'\n",
    "Counter(df['LOADED2'])\n",
    "\n",
    "# many more missing values in loaded2 than in loaded1"
   ]
  },
  {
   "cell_type": "code",
   "execution_count": 19,
   "metadata": {
    "collapsed": false
   },
   "outputs": [
    {
     "data": {
      "text/plain": [
       "<matplotlib.text.Text at 0x118d63da0>"
      ]
     },
     "execution_count": 19,
     "metadata": {},
     "output_type": "execute_result"
    },
    {
     "data": {
      "image/png": "[encoded data removed]",
      "text/plain": [
       "<matplotlib.figure.Figure at 0x1181b2160>"
      ]
     },
     "metadata": {},
     "output_type": "display_data"
    }
   ],
   "source": [
    "# 'casinj + caskld'\n",
    "df.CASTOT = df.CASINJ + df.CASKLD\n",
    "df.CASTOT\n",
    "\n",
    "plt.boxplot([np.log(df.CASTOT + 1),np.log(df.CASINJ + 1),np.log(df.CASKLD + 1)])\n",
    "plt.title(\"casualty plots, log scale\")\n",
    "\n",
    "# CASinj and CAStot share the same pattern, whereas CASkld does not share the same pattern with the two. "
   ]
  },
  {
   "cell_type": "code",
   "execution_count": 23,
   "metadata": {
    "collapsed": false
   },
   "outputs": [
    {
     "data": {
      "text/plain": [
       "{'boxes': [<matplotlib.lines.Line2D at 0x11a0c60f0>],\n",
       " 'caps': [<matplotlib.lines.Line2D at 0x11badca20>,\n",
       "  <matplotlib.lines.Line2D at 0x11badcba8>],\n",
       " 'fliers': [<matplotlib.lines.Line2D at 0x11bad7438>],\n",
       " 'means': [],\n",
       " 'medians': [<matplotlib.lines.Line2D at 0x11bad7c50>],\n",
       " 'whiskers': [<matplotlib.lines.Line2D at 0x11a0c56a0>,\n",
       "  <matplotlib.lines.Line2D at 0x11a0c5518>]}"
      ]
     },
     "execution_count": 23,
     "metadata": {},
     "output_type": "execute_result"
    },
    {
     "data": {
      "image/png": "[encoded data removed]",
      "text/plain": [
       "<matplotlib.figure.Figure at 0x11b837828>"
      ]
     },
     "metadata": {},
     "output_type": "display_data"
    }
   ],
   "source": [
    "# 'eqpdmg'\n",
    "df.EQPDMG.describe()\n",
    "plt.boxplot([np.log(df.EQPDMG)])\n",
    "plt.title(\"equipment damage plot, log scale\")\n",
    "# Looks like log-scale egpdmg has a even distribution. "
   ]
  }
 ],
 "metadata": {
  "anaconda-cloud": {},
  "kernelspec": {
   "display_name": "Python [conda root]",
   "language": "python",
   "name": "conda-root-py"
  },
  "language_info": {
   "codemirror_mode": {
    "name": "ipython",
    "version": 3
   },
   "file_extension": ".py",
   "mimetype": "text/x-python",
   "name": "python",
   "nbconvert_exporter": "python",
   "pygments_lexer": "ipython3",
   "version": "3.5.2"
  }
 },
 "nbformat": 4,
 "nbformat_minor": 1
}
