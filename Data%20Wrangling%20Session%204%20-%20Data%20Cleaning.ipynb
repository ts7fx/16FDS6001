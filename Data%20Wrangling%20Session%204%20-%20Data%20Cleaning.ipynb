{
 "cells": [
  {
   "cell_type": "markdown",
   "metadata": {},
   "source": [
    "## Data Cleaning\n",
    "\n",
    "* Data cleaning is data set specific but there are some common problems\n",
    "    * Missing values\n",
    "    * Duplicates\n",
    "    * Reporting or collection bias or drift\n",
    "    * Reporting or collection errors\n",
    "* Data cleaning is more effective when it is combined with visualization and some preliminary modeling\n",
    "* Decribe all the steps you take to load and clean the data so that you and others can repeat the process"
   ]
  },
  {
   "cell_type": "markdown",
   "metadata": {},
   "source": [
    "## Instructions\n",
    "\n",
    "This notebook contains a small series of in-class \n",
    "exercises. Do these by yourself but you can consult\n",
    "with others in the class, use the text, and search for\n",
    "relevant materials on the web. \n",
    "\n",
    "Submit your completed notebook on collab by the time specified.\n",
    "Use of a combination of mardown and code cells to \n",
    "present your answers the questions."
   ]
  },
  {
   "cell_type": "markdown",
   "metadata": {},
   "source": [
    "## Exercise 1\n",
    "\n",
    "Describe the train data, the source of the data, and relevant download dates.\n",
    "\n",
    "After you complete this description, load the rail accident data from 2001-2016."
   ]
  },
  {
   "cell_type": "markdown",
   "metadata": {},
   "source": [
    "## Train Data Loading and Cleaning\n",
    "\n",
    "* The data are railroad reported accidents\n",
    "* The yearly files were downloaded as comma separted text files from http://safetydata.fra.dot.gov/Output/917356.txt\n",
    "* See notebook Data Wrangling 3 - Train Data for details on the variables\n",
    "* All files were downloaded to /Users/deb/Dropbox/department/Classes/SYS4021/sys 421 2012/data/TrainAccidents/\n",
    "* 2015 and 2016 were last download on 10/18/2016. All other years were downloaded 9/14/2015."
   ]
  },
  {
   "cell_type": "markdown",
   "metadata": {},
   "source": [
    "# Exercise 2\n",
    "\n",
    "Look at the first 50 narratives. What problem do you observe? Fix the problem (i.e., clearn the data set).\n",
    "\n"
   ]
  },
  {
   "cell_type": "markdown",
   "metadata": {},
   "source": [
    "## Exercise 3\n",
    "\n",
    "Make variables, TYPE, TYPEQ, CAUSE, WEATHER, and VISIBLTY categoical with appropriate labels for their levels. Aggregate category labels for TYPEQ and TYPE to produce more balanced numbers. For TYPEQ use Freight, Passenger (for passenger and commuter), Yard, and Other for everything else. For TYPE use Derailment, Hwy-Rail, then combine Headon + Readedn + Side + Raking into one variale called Collision.  Combine GradeX + Obstruction + Explosive + Fire + Other + SeeNarrative into a variable called Other.\n",
    "\n",
    "Note the issue in doing this type of aggregation."
   ]
  },
  {
   "cell_type": "markdown",
   "metadata": {},
   "source": [
    "# Exercise 4 \n",
    "\n",
    "What columns have missing values? How should we handle the missing values problem? What are the options?"
   ]
  },
  {
   "cell_type": "markdown",
   "metadata": {},
   "source": [
    "# Viewing the Data\n"
   ]
  },
  {
   "cell_type": "markdown",
   "metadata": {},
   "source": [
    "## Exercise 5\n",
    "\n",
    "Use groupby and sns.tsplot to show yearly time series plots of the number of accidents, cost of accidents, maximum cost of accidents,  number killed, and number injured. \n"
   ]
  },
  {
   "cell_type": "markdown",
   "metadata": {},
   "source": [
    "## Exercise 6\n",
    "\n",
    "Look at the time series plots of total accident damage per year and maximum per year. How can we make these visualizations more accurate? Make the adjustment."
   ]
  },
  {
   "cell_type": "markdown",
   "metadata": {},
   "source": [
    "## Exercise 7\n",
    "\n",
    "Look at the narratives for the 2 most expensive (corrected) accidents. Do we make any \n",
    "adjustments to the data?\n"
   ]
  },
  {
   "cell_type": "markdown",
   "metadata": {},
   "source": [
    "## Exercise 8\n",
    "\n",
    "Use plt.figure with add.subplot to plot histograms of TRNSPD with the default bin size and then for bins 10, 50, and 100 all in one figure. Repeat this for TEMP. What problem do you observe? How should we correct this?"
   ]
  },
  {
   "cell_type": "markdown",
   "metadata": {},
   "source": [
    "## Exercise 9\n",
    "\n",
    "Use pd.scatter_matrix to get a scatter plot matix of TRNSPD, TONS, CARS, TOTINJ, TOTKLD, and ACCDMG2016. What conclusions can you draw from this?"
   ]
  }
 ],
 "metadata": {
  "kernelspec": {
   "display_name": "Python 3",
   "language": "python",
   "name": "python3"
  },
  "language_info": {
   "codemirror_mode": {
    "name": "ipython",
    "version": 3
   },
   "file_extension": ".py",
   "mimetype": "text/x-python",
   "name": "python",
   "nbconvert_exporter": "python",
   "pygments_lexer": "ipython3",
   "version": "3.4.5"
  }
 },
 "nbformat": 4,
 "nbformat_minor": 0
}
